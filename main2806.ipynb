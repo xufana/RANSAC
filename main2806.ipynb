{
 "cells": [
  {
   "cell_type": "code",
   "execution_count": 1,
   "metadata": {
    "colab": {
     "base_uri": "https://localhost:8080/",
     "height": 819
    },
    "colab_type": "code",
    "id": "TI4vArioT_NS",
    "outputId": "f0d4f7ea-2a49-42ca-962d-e04448b39a65"
   },
   "outputs": [
    {
     "name": "stdout",
     "output_type": "stream",
     "text": [
      "Requirement already satisfied: open3d in c:\\users\\demonex\\anaconda3\\lib\\site-packages (0.10.0.1)\n",
      "Requirement already satisfied: widgetsnbextension in c:\\users\\demonex\\anaconda3\\lib\\site-packages (from open3d) (3.5.1)\n",
      "Requirement already satisfied: ipywidgets in c:\\users\\demonex\\anaconda3\\lib\\site-packages (from open3d) (7.5.1)\n",
      "Requirement already satisfied: numpy in c:\\users\\demonex\\anaconda3\\lib\\site-packages (from open3d) (1.18.1)\n",
      "Requirement already satisfied: notebook in c:\\users\\demonex\\anaconda3\\lib\\site-packages (from open3d) (6.0.3)\n",
      "Requirement already satisfied: matplotlib in c:\\users\\demonex\\anaconda3\\lib\\site-packages (from open3d) (3.1.3)\n",
      "Requirement already satisfied: traitlets>=4.3.1 in c:\\users\\demonex\\anaconda3\\lib\\site-packages (from ipywidgets->open3d) (4.3.3)\n",
      "Requirement already satisfied: nbformat>=4.2.0 in c:\\users\\demonex\\anaconda3\\lib\\site-packages (from ipywidgets->open3d) (5.0.4)\n",
      "Requirement already satisfied: ipython>=4.0.0; python_version >= \"3.3\" in c:\\users\\demonex\\anaconda3\\lib\\site-packages (from ipywidgets->open3d) (7.12.0)\n",
      "Requirement already satisfied: ipykernel>=4.5.1 in c:\\users\\demonex\\anaconda3\\lib\\site-packages (from ipywidgets->open3d) (5.1.4)\n",
      "Requirement already satisfied: terminado>=0.8.1 in c:\\users\\demonex\\anaconda3\\lib\\site-packages (from notebook->open3d) (0.8.3)\n",
      "Requirement already satisfied: tornado>=5.0 in c:\\users\\demonex\\anaconda3\\lib\\site-packages (from notebook->open3d) (6.0.3)\n",
      "Requirement already satisfied: jupyter-client>=5.3.4 in c:\\users\\demonex\\anaconda3\\lib\\site-packages (from notebook->open3d) (5.3.4)\n",
      "Requirement already satisfied: prometheus-client in c:\\users\\demonex\\anaconda3\\lib\\site-packages (from notebook->open3d) (0.7.1)\n",
      "Requirement already satisfied: jinja2 in c:\\users\\demonex\\anaconda3\\lib\\site-packages (from notebook->open3d) (2.11.1)\n",
      "Requirement already satisfied: nbconvert in c:\\users\\demonex\\anaconda3\\lib\\site-packages (from notebook->open3d) (5.6.1)\n",
      "Requirement already satisfied: pyzmq>=17 in c:\\users\\demonex\\anaconda3\\lib\\site-packages (from notebook->open3d) (18.1.1)\n",
      "Requirement already satisfied: Send2Trash in c:\\users\\demonex\\anaconda3\\lib\\site-packages (from notebook->open3d) (1.5.0)\n",
      "Requirement already satisfied: jupyter-core>=4.6.1 in c:\\users\\demonex\\anaconda3\\lib\\site-packages (from notebook->open3d) (4.6.1)\n",
      "Requirement already satisfied: ipython-genutils in c:\\users\\demonex\\anaconda3\\lib\\site-packages (from notebook->open3d) (0.2.0)\n",
      "Requirement already satisfied: cycler>=0.10 in c:\\users\\demonex\\anaconda3\\lib\\site-packages (from matplotlib->open3d) (0.10.0)\n",
      "Requirement already satisfied: pyparsing!=2.0.4,!=2.1.2,!=2.1.6,>=2.0.1 in c:\\users\\demonex\\anaconda3\\lib\\site-packages (from matplotlib->open3d) (2.4.6)\n",
      "Requirement already satisfied: python-dateutil>=2.1 in c:\\users\\demonex\\anaconda3\\lib\\site-packages (from matplotlib->open3d) (2.8.1)\n",
      "Requirement already satisfied: kiwisolver>=1.0.1 in c:\\users\\demonex\\anaconda3\\lib\\site-packages (from matplotlib->open3d) (1.1.0)\n",
      "Requirement already satisfied: six in c:\\users\\demonex\\anaconda3\\lib\\site-packages (from traitlets>=4.3.1->ipywidgets->open3d) (1.14.0)\n",
      "Requirement already satisfied: decorator in c:\\users\\demonex\\anaconda3\\lib\\site-packages (from traitlets>=4.3.1->ipywidgets->open3d) (4.4.1)\n",
      "Requirement already satisfied: jsonschema!=2.5.0,>=2.4 in c:\\users\\demonex\\anaconda3\\lib\\site-packages (from nbformat>=4.2.0->ipywidgets->open3d) (3.2.0)\n",
      "Requirement already satisfied: pickleshare in c:\\users\\demonex\\anaconda3\\lib\\site-packages (from ipython>=4.0.0; python_version >= \"3.3\"->ipywidgets->open3d) (0.7.5)\n",
      "Requirement already satisfied: pygments in c:\\users\\demonex\\anaconda3\\lib\\site-packages (from ipython>=4.0.0; python_version >= \"3.3\"->ipywidgets->open3d) (2.5.2)\n",
      "Requirement already satisfied: prompt-toolkit!=3.0.0,!=3.0.1,<3.1.0,>=2.0.0 in c:\\users\\demonex\\anaconda3\\lib\\site-packages (from ipython>=4.0.0; python_version >= \"3.3\"->ipywidgets->open3d) (3.0.3)\n",
      "Requirement already satisfied: backcall in c:\\users\\demonex\\anaconda3\\lib\\site-packages (from ipython>=4.0.0; python_version >= \"3.3\"->ipywidgets->open3d) (0.1.0)\n",
      "Requirement already satisfied: setuptools>=18.5 in c:\\users\\demonex\\anaconda3\\lib\\site-packages (from ipython>=4.0.0; python_version >= \"3.3\"->ipywidgets->open3d) (45.2.0.post20200210)\n",
      "Requirement already satisfied: colorama; sys_platform == \"win32\" in c:\\users\\demonex\\anaconda3\\lib\\site-packages (from ipython>=4.0.0; python_version >= \"3.3\"->ipywidgets->open3d) (0.4.3)\n",
      "Requirement already satisfied: jedi>=0.10 in c:\\users\\demonex\\anaconda3\\lib\\site-packages (from ipython>=4.0.0; python_version >= \"3.3\"->ipywidgets->open3d) (0.14.1)\n",
      "Requirement already satisfied: pywin32>=1.0; sys_platform == \"win32\" in c:\\users\\demonex\\anaconda3\\lib\\site-packages (from jupyter-client>=5.3.4->notebook->open3d) (227)\n",
      "Requirement already satisfied: MarkupSafe>=0.23 in c:\\users\\demonex\\anaconda3\\lib\\site-packages (from jinja2->notebook->open3d) (1.1.1)\n",
      "Requirement already satisfied: testpath in c:\\users\\demonex\\anaconda3\\lib\\site-packages (from nbconvert->notebook->open3d) (0.4.4)\n",
      "Requirement already satisfied: mistune<2,>=0.8.1 in c:\\users\\demonex\\anaconda3\\lib\\site-packages (from nbconvert->notebook->open3d) (0.8.4)\n",
      "Requirement already satisfied: pandocfilters>=1.4.1 in c:\\users\\demonex\\anaconda3\\lib\\site-packages (from nbconvert->notebook->open3d) (1.4.2)\n",
      "Requirement already satisfied: defusedxml in c:\\users\\demonex\\anaconda3\\lib\\site-packages (from nbconvert->notebook->open3d) (0.6.0)\n",
      "Requirement already satisfied: bleach in c:\\users\\demonex\\anaconda3\\lib\\site-packages (from nbconvert->notebook->open3d) (3.1.0)\n",
      "Requirement already satisfied: entrypoints>=0.2.2 in c:\\users\\demonex\\anaconda3\\lib\\site-packages (from nbconvert->notebook->open3d) (0.3)\n",
      "Requirement already satisfied: pyrsistent>=0.14.0 in c:\\users\\demonex\\anaconda3\\lib\\site-packages (from jsonschema!=2.5.0,>=2.4->nbformat>=4.2.0->ipywidgets->open3d) (0.15.7)\n",
      "Requirement already satisfied: importlib-metadata; python_version < \"3.8\" in c:\\users\\demonex\\anaconda3\\lib\\site-packages (from jsonschema!=2.5.0,>=2.4->nbformat>=4.2.0->ipywidgets->open3d) (1.5.0)\n",
      "Requirement already satisfied: attrs>=17.4.0 in c:\\users\\demonex\\anaconda3\\lib\\site-packages (from jsonschema!=2.5.0,>=2.4->nbformat>=4.2.0->ipywidgets->open3d) (19.3.0)\n",
      "Requirement already satisfied: wcwidth in c:\\users\\demonex\\anaconda3\\lib\\site-packages (from prompt-toolkit!=3.0.0,!=3.0.1,<3.1.0,>=2.0.0->ipython>=4.0.0; python_version >= \"3.3\"->ipywidgets->open3d) (0.1.8)\n",
      "Requirement already satisfied: parso>=0.5.0 in c:\\users\\demonex\\anaconda3\\lib\\site-packages (from jedi>=0.10->ipython>=4.0.0; python_version >= \"3.3\"->ipywidgets->open3d) (0.5.2)\n",
      "Requirement already satisfied: webencodings in c:\\users\\demonex\\anaconda3\\lib\\site-packages (from bleach->nbconvert->notebook->open3d) (0.5.1)\n",
      "Requirement already satisfied: zipp>=0.5 in c:\\users\\demonex\\anaconda3\\lib\\site-packages (from importlib-metadata; python_version < \"3.8\"->jsonschema!=2.5.0,>=2.4->nbformat>=4.2.0->ipywidgets->open3d) (2.2.0)\n"
     ]
    }
   ],
   "source": [
    "!pip install open3d"
   ]
  },
  {
   "cell_type": "code",
   "execution_count": 2,
   "metadata": {
    "colab": {},
    "colab_type": "code",
    "id": "cLsdeA2ZQl2b"
   },
   "outputs": [],
   "source": [
    "import numpy as np\n",
    "import open3d as o3d\n",
    "import matplotlib.pyplot as plt\n",
    "import math\n",
    "import scipy\n",
    "from tqdm import tqdm_notebook"
   ]
  },
  {
   "cell_type": "code",
   "execution_count": 3,
   "metadata": {
    "colab": {},
    "colab_type": "code",
    "id": "R7mksfC4SaGX"
   },
   "outputs": [],
   "source": [
    "pcd = o3d.io.read_point_cloud(\"sb_2011.pts\")"
   ]
  },
  {
   "cell_type": "code",
   "execution_count": 4,
   "metadata": {
    "colab": {},
    "colab_type": "code",
    "id": "_EcLOnhAVTh5"
   },
   "outputs": [
    {
     "data": {
      "text/plain": [
       "array([[ -1.8312, -17.1466,  -3.8058],\n",
       "       [ -1.6594, -17.1458,  -3.8238],\n",
       "       [ -1.6594, -17.1454,  -3.8015],\n",
       "       ...,\n",
       "       [  0.1304,   7.9499,   1.2323],\n",
       "       [  0.1398,   7.9496,   1.1724],\n",
       "       [  0.1397,   7.9439,   1.1815]])"
      ]
     },
     "execution_count": 4,
     "metadata": {},
     "output_type": "execute_result"
    }
   ],
   "source": [
    "point_cloud_in_numpy = np.asarray(pcd.points)\n",
    "point_cloud_in_numpy "
   ]
  },
  {
   "cell_type": "code",
   "execution_count": 44,
   "metadata": {},
   "outputs": [],
   "source": [
    "o3d.visualization.draw_geometries([o3d.io.read_point_cloud(\"sb_2011.pts\")])"
   ]
  },
  {
   "cell_type": "markdown",
   "metadata": {},
   "source": [
    "# NDT"
   ]
  },
  {
   "cell_type": "markdown",
   "metadata": {},
   "source": [
    "Был вариант, для инициализации А использовать VoxelGrid, но я так и не придумала, как вытащить оттуда соотношение кубик-массив точек в нем, поэтому делим каждую координату нацело на s, получаем координаты кубика для каждой точки."
   ]
  },
  {
   "cell_type": "code",
   "execution_count": 8,
   "metadata": {},
   "outputs": [],
   "source": [
    "s = 0.5\n",
    "te = 0.01\n",
    "A = point_cloud_in_numpy // s # разбиение PCD на кубики\n",
    "Q = np.array([0, 0, 0]) # плоские NDT ячейки\n",
    "Q_points = []\n",
    "P = [] # остальные ячейки"
   ]
  },
  {
   "cell_type": "code",
   "execution_count": 9,
   "metadata": {},
   "outputs": [
    {
     "data": {
      "image/png": "[encoded data removed]",
      "text/plain": [
       "<Figure size 1080x360 with 1 Axes>"
      ]
     },
     "metadata": {
      "needs_background": "light"
     },
     "output_type": "display_data"
    }
   ],
   "source": [
    "unique,counts=np.unique(A,axis=0, return_counts=True)\n",
    "plt.figure(figsize=(15,5))\n",
    "plt.bar(range(0, len(counts)), counts, width=1.5, color='g')\n",
    "plt.show()"
   ]
  },
  {
   "cell_type": "code",
   "execution_count": 10,
   "metadata": {},
   "outputs": [],
   "source": [
    "def IRLS_find_norm(points):\n",
    "    cov = np.cov(np.array(points).T)\n",
    "    #print(\"cov = \", cov)\n",
    "    lambd, e = np.linalg.eig(cov)\n",
    "    e = e.T\n",
    "    o = lambd.argsort()\n",
    "    lambd = lambd[o]\n",
    "    e = e[o]\n",
    "    gamma = 1e-6\n",
    "    k_w = 2.985\n",
    "    n = e[0]\n",
    "    g = np.mean(points, axis = 0)\n",
    "    X_prev = np.zeros(3)\n",
    "    for i in range(100):\n",
    "        n_old = n\n",
    "        r = (points - g) @ n\n",
    "        w = np.exp(-(r ** 2 / k_w ** 2))\n",
    "        X_k = np.average(points - g - X_prev, axis=0, weights=w)\n",
    "        vec = (points - g - X_k)\n",
    "        X_prev = X_k\n",
    "        C = (vec.T * w) @ vec\n",
    "        w, v = np.linalg.eig(C)\n",
    "        v = v.T\n",
    "        o = w.argsort()\n",
    "        w = w[o]\n",
    "        v = v[o]\n",
    "        n = v[0]\n",
    "        convg = np.linalg.norm(n_old - n) / np.linalg.norm(n_old)\n",
    "        if convg < gamma:\n",
    "            break\n",
    "    return n"
   ]
  },
  {
   "cell_type": "code",
   "execution_count": 11,
   "metadata": {},
   "outputs": [
    {
     "name": "stderr",
     "output_type": "stream",
     "text": [
      "C:\\Users\\Demonex\\anaconda3\\lib\\site-packages\\ipykernel_launcher.py:3: TqdmDeprecationWarning: This function will be removed in tqdm==5.0.0\n",
      "Please use `tqdm.notebook.tqdm` instead of `tqdm.tqdm_notebook`\n",
      "  This is separate from the ipykernel package so we can avoid doing imports until\n"
     ]
    },
    {
     "data": {
      "application/vnd.jupyter.widget-view+json": {
       "model_id": "4074f8225f9a4bcda270636e9e82fb28",
       "version_major": 2,
       "version_minor": 0
      },
      "text/plain": [
       "HBox(children=(FloatProgress(value=0.0, max=843.0), HTML(value='')))"
      ]
     },
     "metadata": {},
     "output_type": "display_data"
    },
    {
     "name": "stdout",
     "output_type": "stream",
     "text": [
      "\n"
     ]
    }
   ],
   "source": [
    "mu = []\n",
    "normals = []\n",
    "for ind, i in tqdm_notebook(list(enumerate(unique))):\n",
    "    this_cell = np.array(point_cloud_in_numpy[np.where(np.prod(A == i, axis = -1))])\n",
    "    if (len(this_cell) <= 3):\n",
    "        P.append(this_cell)\n",
    "        continue\n",
    "    mu.append(np.mean(this_cell))\n",
    "    cov = np.cov(np.array(this_cell).T)\n",
    "    #print(\"cov = \", cov)\n",
    "    w, v = np.linalg.eig(cov)\n",
    "    v = v.T\n",
    "    o = w.argsort()\n",
    "    w = w[o]\n",
    "    v = v[o]\n",
    "    #print(\"values = \", w)\n",
    "    if (abs(w[0] / w[1]) <= te):\n",
    "        Q = np.vstack((Q, i))\n",
    "        Q_points.append(list(this_cell))\n",
    "        normals.append(IRLS_find_norm(this_cell))\n",
    "    else:\n",
    "        P.append(list(this_cell))\n",
    "Q = Q[1:,]\n",
    "P = np.concatenate(P)"
   ]
  },
  {
   "cell_type": "code",
   "execution_count": 12,
   "metadata": {},
   "outputs": [
    {
     "name": "stdout",
     "output_type": "stream",
     "text": [
      "(373, 3)\n"
     ]
    }
   ],
   "source": [
    "Q_points = np.array(Q_points)\n",
    "normals = np.array(normals)\n",
    "print(np.shape(normals))"
   ]
  },
  {
   "cell_type": "markdown",
   "metadata": {},
   "source": [
    "# RANSAC"
   ]
  },
  {
   "cell_type": "code",
   "execution_count": 105,
   "metadata": {},
   "outputs": [],
   "source": [
    "def plane(Q, P, Q_points, normals):\n",
    "    k_max = 50\n",
    "    nu = 0.95\n",
    "    delta_d = 0.08\n",
    "    n = 0\n",
    "    delta_theta = 0.25\n",
    "    k = 0\n",
    "    Psi = np.zeros(len(Q), dtype=np.bool)\n",
    "    Psi_size = 0\n",
    "    Psi_points = []\n",
    "    k = 1\n",
    "    while k < k_max:\n",
    "        c = np.random.choice(range(0, len(Q)))\n",
    "        cell = Q[c]\n",
    "        points = Q_points[c]\n",
    "        gk = np.mean(points, axis = 0)\n",
    "        nk = normals[c]\n",
    "        Ik = np.zeros(len(Q), dtype=np.bool)\n",
    "        cnt = 0\n",
    "        Ik_points = []\n",
    "        for i, v in enumerate(Q):\n",
    "            g_i = np.mean(Q_points[i], axis = 0)\n",
    "            n_i = normals[i]\n",
    "            d_i = np.dot((g_i - gk), nk) / np.linalg.norm(nk)\n",
    "            theta_i = 1 - np.abs(np.dot(nk, n_i)) / (np.linalg.norm(nk) * np.linalg.norm(n_i))\n",
    "            if (np.abs(d_i) < delta_d and theta_i < delta_theta):\n",
    "    #             print(d_i, theta_i)\n",
    "    #             print(n_i, nk)\n",
    "                Ik[i] = 1\n",
    "                cnt += 1\n",
    "                Ik_points += Q_points[i]\n",
    "        if cnt > Psi_size:\n",
    "            Psi = Ik\n",
    "            Psi_points = Ik_points\n",
    "            Psi_size = cnt\n",
    "            n = nk\n",
    "            g = gk\n",
    "            Pn = Psi_size / len(Q)\n",
    "            k_max = math.ceil(math.log(1 - nu) / math.log(1 - Pn))\n",
    "        k += 1\n",
    "#     print(Psi_size)\n",
    "\n",
    "\n",
    "#     print(Psi_points[0])\n",
    "#     print(np.shape(Psi_points))\n",
    "    \n",
    "    P_mask = np.zeros(len(P), dtype=np.bool)\n",
    "    for j, i in enumerate(P):\n",
    "        d_i = np.inner(i - g, n) / np.linalg.norm(n)\n",
    "        if (np.abs(d_i) < delta_d):\n",
    "            P_mask[j] = 1 \n",
    "            Psi_points += [i]\n",
    "    return n, g, np.array(Psi_points), Q[~Psi], Q_points[~Psi], P[~P_mask], normals[~Psi]\n",
    "#     print(Psi_points[0])\n",
    "#     print(np.shape(Psi_points))  "
   ]
  },
  {
   "cell_type": "code",
   "execution_count": 121,
   "metadata": {},
   "outputs": [],
   "source": [
    "def sep(arr):\n",
    "    l = min(z)\n",
    "    h = max(z)\n",
    "    mid = (h + l) / 2\n",
    "    #print(l, mid, h)\n",
    "    ind = np.searchsorted(z, mid)\n",
    "    z1 = z[:ind]\n",
    "    z2 = z[ind:]\n",
    "    floors = []\n",
    "    lwth = 10000\n",
    "    upth = 100000\n",
    "    #print(len(z1) / (mid - l))\n",
    "    #print(len(z2) / (h - mid))\n",
    "    if len(z1) / (mid - l) > upth:\n",
    "        floors.append((l, mid))\n",
    "    elif len(z1) / (mid - l) > lwth:\n",
    "        floors += sep(z1)\n",
    "    if len(z2) / (h - mid) > upth:\n",
    "        floors.append((mid, h))\n",
    "    elif len(z2) / (h - mid) > lwth:\n",
    "        floors += sep(z2)\n",
    "    return floors"
   ]
  },
  {
   "cell_type": "code",
   "execution_count": 17,
   "metadata": {},
   "outputs": [],
   "source": [
    "Q_old = Q\n",
    "P_old = P\n",
    "Q_points_old = Q_points\n",
    "normals_old = normals"
   ]
  },
  {
   "cell_type": "code",
   "execution_count": 18,
   "metadata": {},
   "outputs": [],
   "source": [
    "Q = Q_old\n",
    "P = P_old\n",
    "Q_points = Q_points_old\n",
    "normals = normals_old"
   ]
  },
  {
   "cell_type": "code",
   "execution_count": 137,
   "metadata": {},
   "outputs": [
    {
     "name": "stdout",
     "output_type": "stream",
     "text": [
      "[(-3.9994, -0.1886000000000001), (-0.1886000000000001, 3.6222)]\n"
     ]
    }
   ],
   "source": [
    "z = np.sort(point_cloud_in_numpy[:,2])\n",
    "z = sep(z)\n",
    "print(z)"
   ]
  },
  {
   "cell_type": "code",
   "execution_count": 151,
   "metadata": {},
   "outputs": [
    {
     "name": "stdout",
     "output_type": "stream",
     "text": [
      "[(-3.9994, -0.1886000000000001), (-0.1886000000000001, 3.6222)]\n"
     ]
    },
    {
     "name": "stderr",
     "output_type": "stream",
     "text": [
      "C:\\Users\\Demonex\\anaconda3\\lib\\site-packages\\ipykernel_launcher.py:14: TqdmDeprecationWarning: This function will be removed in tqdm==5.0.0\n",
      "Please use `tqdm.notebook.tqdm` instead of `tqdm.tqdm_notebook`\n",
      "  \n"
     ]
    },
    {
     "data": {
      "application/vnd.jupyter.widget-view+json": {
       "model_id": "5a8978d396764569a2c51b144299b25a",
       "version_major": 2,
       "version_minor": 0
      },
      "text/plain": [
       "HBox(children=(FloatProgress(value=0.0), HTML(value='')))"
      ]
     },
     "metadata": {},
     "output_type": "display_data"
    },
    {
     "name": "stdout",
     "output_type": "stream",
     "text": [
      "[ 0.00845516 -0.00599421  0.99994629]\n",
      "4017147\n",
      "1.4947 1.0383\n",
      "1\n",
      "[ 0.00320837 -0.00146436  0.99999378]\n",
      "852427\n",
      "-1.4393 -1.6131\n",
      "1\n",
      "[-0.9999767  -0.00506661 -0.00457419]\n",
      "668256\n",
      "3.0804 -1.5\n",
      "2\n",
      "[ 0.03103352 -0.99951027 -0.00401844]\n",
      "37386\n",
      "2.5565 -0.9058\n",
      "2\n",
      "[-0.99892472 -0.02312075 -0.04018496]\n",
      "229711\n",
      "1.602 -1.4471\n",
      "2\n",
      "[0.01427167 0.01552212 0.99977767]\n",
      "49928\n",
      "1.3944 1.011\n",
      "1\n",
      "[-0.99937591 -0.03466984  0.00676765]\n",
      "636477\n",
      "1.4325 -1.6241\n",
      "2\n",
      "[ 0.02140677 -0.9997349  -0.00847858]\n",
      "475724\n",
      "1.4644 -6.2998\n",
      "2\n",
      "[-0.01865596  0.99973635  0.01338584]\n",
      "9618\n",
      "-0.1202 -1.5\n"
     ]
    }
   ],
   "source": [
    "Q = Q_old\n",
    "P = P_old\n",
    "Q_points = Q_points_old\n",
    "normal_points = normals_old\n",
    "walls_points = np.zeros((0, 3))\n",
    "walls_colors = np.zeros((0, 3))\n",
    "walls_normals = np.zeros((0, 3))\n",
    "floors_points = np.zeros((0, 3))\n",
    "floors_colors = np.zeros((0, 3))\n",
    "floors_normals = np.zeros((0, 3))\n",
    "print(z)\n",
    "final_f = []\n",
    "#for i in range(100):\n",
    "for ind, i in tqdm_notebook(list(enumerate(range(100)))):\n",
    "    #print(np.shape(normal_points))\n",
    "    n, g, Psi_points, Q, Q_points, P, normal_points = plane(Q, P, Q_points, normal_points)\n",
    "    print(n)\n",
    "#     print(g)\n",
    "    print(len(Psi_points))\n",
    "    print(max(Psi_points[:, 2]), min(Psi_points[:, 2]))\n",
    "    if len(Psi_points) < 10000:\n",
    "        break\n",
    "    pcd.points = o3d.utility.Vector3dVector(np.concatenate((floors_points, walls_points)))\n",
    "    pcd.colors = o3d.utility.Vector3dVector(np.concatenate((floors_colors, walls_colors)))\n",
    "    theta_i = 1 - np.abs(np.dot([0, 0, 1], n)) / (np.linalg.norm([0, 0, 1]) * np.linalg.norm(n))\n",
    "    if (theta_i <= 0.15):\n",
    "        mean_z = np.mean(Psi_points[:,2])\n",
    "        for j in z:\n",
    "            if mean_z <= j[1] and mean_z >= j[0]:\n",
    "                print(\"1\")\n",
    "                floors_points = np.concatenate((floors_points, Psi_points))\n",
    "                floors_colors = np.concatenate((floors_colors, np.repeat(np.random.random(3).reshape(1, 3), len(Psi_points), axis = 0)))\n",
    "                floors_normals = np.concatenate((floors_normals, [n] * len(Psi_points)))\n",
    "    else:\n",
    "        print(2)\n",
    "        walls_points = np.concatenate((walls_points, Psi_points))\n",
    "        walls_colors = np.concatenate((walls_points, np.repeat(np.random.random(3).reshape(1, 3), len(Psi_points), axis = 0)))\n",
    "        walls_normals = np.concatenate((walls_normals, [n] * len(Psi_points)))\n",
    "pcd.points = o3d.utility.Vector3dVector(np.concatenate((floors_points, walls_points)))\n",
    "pcd.colors = o3d.utility.Vector3dVector(np.concatenate((floors_colors, walls_colors)))\n",
    "o3d.visualization.draw_geometries([pcd])"
   ]
  },
  {
   "cell_type": "code",
   "execution_count": 91,
   "metadata": {},
   "outputs": [
    {
     "name": "stdout",
     "output_type": "stream",
     "text": [
      "[[ -5.3355  -1.1242   1.2476]\n",
      " [ -5.2551  -1.2293   1.2419]\n",
      " [ -5.2539  -1.2219   1.2412]\n",
      " ...\n",
      " [ -0.4974 -11.5492   1.1403]\n",
      " [ -0.497  -11.5401   1.1537]\n",
      " [ -0.497  -11.5402   1.168 ]]\n"
     ]
    }
   ],
   "source": [
    "print(walls_points)"
   ]
  },
  {
   "cell_type": "code",
   "execution_count": 140,
   "metadata": {},
   "outputs": [],
   "source": [
    "pcd.points = o3d.utility.Vector3dVector(floors_points)\n",
    "pcd.colors = o3d.utility.Vector3dVector(floors_colors)\n",
    "o3d.visualization.draw_geometries([pcd])"
   ]
  },
  {
   "cell_type": "markdown",
   "metadata": {},
   "source": [
    "# Делаем Mesh из стен и потолков с полом"
   ]
  },
  {
   "cell_type": "code",
   "execution_count": 154,
   "metadata": {},
   "outputs": [
    {
     "ename": "TypeError",
     "evalue": "write_triangle_mesh(): incompatible function arguments. The following argument types are supported:\n    1. (filename: str, mesh: open3d.open3d_pybind.geometry.TriangleMesh, write_ascii: bool = False, compressed: bool = False, write_vertex_normals: bool = True, write_vertex_colors: bool = True, write_triangle_uvs: bool = True, print_progress: bool = False) -> bool\n\nInvoked with: 'walls.ply', geometry::PointCloud with 2047554 points.",
     "output_type": "error",
     "traceback": [
      "\u001b[1;31m---------------------------------------------------------------------------\u001b[0m",
      "\u001b[1;31mTypeError\u001b[0m                                 Traceback (most recent call last)",
      "\u001b[1;32m<ipython-input-154-971ef28be95d>\u001b[0m in \u001b[0;36m<module>\u001b[1;34m\u001b[0m\n\u001b[0;32m      9\u001b[0m \u001b[0mp_mesh_crop\u001b[0m \u001b[1;33m=\u001b[0m \u001b[0mpoisson_mesh\u001b[0m\u001b[1;33m.\u001b[0m\u001b[0mcrop\u001b[0m\u001b[1;33m(\u001b[0m\u001b[0mbbox\u001b[0m\u001b[1;33m)\u001b[0m\u001b[1;33m\u001b[0m\u001b[1;33m\u001b[0m\u001b[0m\n\u001b[0;32m     10\u001b[0m \u001b[0mo3d\u001b[0m\u001b[1;33m.\u001b[0m\u001b[0mvisualization\u001b[0m\u001b[1;33m.\u001b[0m\u001b[0mdraw_geometries\u001b[0m\u001b[1;33m(\u001b[0m\u001b[1;33m[\u001b[0m\u001b[0mwalls\u001b[0m\u001b[1;33m]\u001b[0m\u001b[1;33m)\u001b[0m\u001b[1;33m\u001b[0m\u001b[1;33m\u001b[0m\u001b[0m\n\u001b[1;32m---> 11\u001b[1;33m \u001b[0mo3d\u001b[0m\u001b[1;33m.\u001b[0m\u001b[0mio\u001b[0m\u001b[1;33m.\u001b[0m\u001b[0mwrite_triangle_mesh\u001b[0m\u001b[1;33m(\u001b[0m\u001b[1;34m\"walls.ply\"\u001b[0m\u001b[1;33m,\u001b[0m \u001b[0mwalls\u001b[0m\u001b[1;33m)\u001b[0m\u001b[1;33m\u001b[0m\u001b[1;33m\u001b[0m\u001b[0m\n\u001b[0m",
      "\u001b[1;31mTypeError\u001b[0m: write_triangle_mesh(): incompatible function arguments. The following argument types are supported:\n    1. (filename: str, mesh: open3d.open3d_pybind.geometry.TriangleMesh, write_ascii: bool = False, compressed: bool = False, write_vertex_normals: bool = True, write_vertex_colors: bool = True, write_triangle_uvs: bool = True, print_progress: bool = False) -> bool\n\nInvoked with: 'walls.ply', geometry::PointCloud with 2047554 points."
     ]
    }
   ],
   "source": [
    "walls = type(pcd)()\n",
    "walls.points = o3d.utility.Vector3dVector(walls_points)\n",
    "walls.colors = o3d.utility.Vector3dVector(np.repeat(np.random.random(3).reshape(1, 3), len(Psi_points), axis = 0))\n",
    "walls.normals = o3d.utility.Vector3dVector(walls_normals)\n",
    "poisson_mesh = o3d.geometry.TriangleMesh.create_from_point_cloud_poisson(walls, depth=5, width=0, scale=1.1, linear_fit=False)[0]\n",
    "\n",
    "o3d.visualization.draw_geometries([walls])\n",
    "bbox = walls.get_axis_aligned_bounding_box()\n",
    "p_mesh_crop = poisson_mesh.crop(bbox)\n",
    "o3d.visualization.draw_geometries([walls])\n",
    "o3d.io.write_triangle_mesh(\"walls.ply\", walls)"
   ]
  },
  {
   "cell_type": "code",
   "execution_count": 153,
   "metadata": {},
   "outputs": [
    {
     "name": "stdout",
     "output_type": "stream",
     "text": [
      "[[ 0.00845516 -0.00599421  0.99994629]\n",
      " [ 0.00845516 -0.00599421  0.99994629]\n",
      " [ 0.00845516 -0.00599421  0.99994629]\n",
      " ...\n",
      " [ 0.01427167  0.01552212  0.99977767]\n",
      " [ 0.01427167  0.01552212  0.99977767]\n",
      " [ 0.01427167  0.01552212  0.99977767]]\n"
     ]
    },
    {
     "ename": "TypeError",
     "evalue": "write_triangle_mesh(): incompatible function arguments. The following argument types are supported:\n    1. (filename: str, mesh: open3d.open3d_pybind.geometry.TriangleMesh, write_ascii: bool = False, compressed: bool = False, write_vertex_normals: bool = True, write_vertex_colors: bool = True, write_triangle_uvs: bool = True, print_progress: bool = False) -> bool\n\nInvoked with: 'floors.ply', geometry::PointCloud with 4919502 points.",
     "output_type": "error",
     "traceback": [
      "\u001b[1;31m---------------------------------------------------------------------------\u001b[0m",
      "\u001b[1;31mTypeError\u001b[0m                                 Traceback (most recent call last)",
      "\u001b[1;32m<ipython-input-153-fb70ad0e1281>\u001b[0m in \u001b[0;36m<module>\u001b[1;34m\u001b[0m\n\u001b[0;32m     13\u001b[0m \u001b[0mp_mesh_crop\u001b[0m \u001b[1;33m=\u001b[0m \u001b[0mpoisson_mesh\u001b[0m\u001b[1;33m.\u001b[0m\u001b[0mcrop\u001b[0m\u001b[1;33m(\u001b[0m\u001b[0mbbox\u001b[0m\u001b[1;33m)\u001b[0m\u001b[1;33m\u001b[0m\u001b[1;33m\u001b[0m\u001b[0m\n\u001b[0;32m     14\u001b[0m \u001b[0mo3d\u001b[0m\u001b[1;33m.\u001b[0m\u001b[0mvisualization\u001b[0m\u001b[1;33m.\u001b[0m\u001b[0mdraw_geometries\u001b[0m\u001b[1;33m(\u001b[0m\u001b[1;33m[\u001b[0m\u001b[0mfloors\u001b[0m\u001b[1;33m]\u001b[0m\u001b[1;33m)\u001b[0m\u001b[1;33m\u001b[0m\u001b[1;33m\u001b[0m\u001b[0m\n\u001b[1;32m---> 15\u001b[1;33m \u001b[0mo3d\u001b[0m\u001b[1;33m.\u001b[0m\u001b[0mio\u001b[0m\u001b[1;33m.\u001b[0m\u001b[0mwrite_triangle_mesh\u001b[0m\u001b[1;33m(\u001b[0m\u001b[1;34m\"floors.ply\"\u001b[0m\u001b[1;33m,\u001b[0m \u001b[0mfloors\u001b[0m\u001b[1;33m)\u001b[0m\u001b[1;33m\u001b[0m\u001b[1;33m\u001b[0m\u001b[0m\n\u001b[0m",
      "\u001b[1;31mTypeError\u001b[0m: write_triangle_mesh(): incompatible function arguments. The following argument types are supported:\n    1. (filename: str, mesh: open3d.open3d_pybind.geometry.TriangleMesh, write_ascii: bool = False, compressed: bool = False, write_vertex_normals: bool = True, write_vertex_colors: bool = True, write_triangle_uvs: bool = True, print_progress: bool = False) -> bool\n\nInvoked with: 'floors.ply', geometry::PointCloud with 4919502 points."
     ]
    }
   ],
   "source": [
    "floors = type(pcd)()\n",
    "floors.points = o3d.utility.Vector3dVector(floors_points)\n",
    "floors.colors = o3d.utility.Vector3dVector(np.repeat(np.random.random(3).reshape(1, 3), len(floors_points), axis = 0))\n",
    "#floors.normals = o3d.utility.Vector3dVector(floors_normals)\n",
    "floors.estimate_normals(search_param=o3d.geometry.KDTreeSearchParamHybrid(radius=0.1, max_nn=30))\n",
    "print(floors_normals)\n",
    "poisson_mesh = o3d.geometry.TriangleMesh.create_from_point_cloud_poisson(floors, \n",
    "                                                                         depth=5, \n",
    "                                                                         width=0, \n",
    "                                                                         scale=1.1, \n",
    "                                                                         linear_fit=False)[0]\n",
    "bbox = floors.get_axis_aligned_bounding_box()\n",
    "p_mesh_crop = poisson_mesh.crop(bbox)\n",
    "o3d.visualization.draw_geometries([floors])\n",
    "o3d.io.write_triangle_mesh(\"floors.ply\", floors)"
   ]
  },
  {
   "cell_type": "markdown",
   "metadata": {},
   "source": [
    "# Делаем план помещения"
   ]
  },
  {
   "cell_type": "code",
   "execution_count": 90,
   "metadata": {},
   "outputs": [
    {
     "ename": "ValueError",
     "evalue": "Image size of 7200000x7200000 pixels is too large. It must be less than 2^16 in each direction.",
     "output_type": "error",
     "traceback": [
      "\u001b[1;31m---------------------------------------------------------------------------\u001b[0m",
      "\u001b[1;31mValueError\u001b[0m                                Traceback (most recent call last)",
      "\u001b[1;32m~\\anaconda3\\lib\\site-packages\\IPython\\core\\formatters.py\u001b[0m in \u001b[0;36m__call__\u001b[1;34m(self, obj)\u001b[0m\n\u001b[0;32m    339\u001b[0m                 \u001b[1;32mpass\u001b[0m\u001b[1;33m\u001b[0m\u001b[1;33m\u001b[0m\u001b[0m\n\u001b[0;32m    340\u001b[0m             \u001b[1;32melse\u001b[0m\u001b[1;33m:\u001b[0m\u001b[1;33m\u001b[0m\u001b[1;33m\u001b[0m\u001b[0m\n\u001b[1;32m--> 341\u001b[1;33m                 \u001b[1;32mreturn\u001b[0m \u001b[0mprinter\u001b[0m\u001b[1;33m(\u001b[0m\u001b[0mobj\u001b[0m\u001b[1;33m)\u001b[0m\u001b[1;33m\u001b[0m\u001b[1;33m\u001b[0m\u001b[0m\n\u001b[0m\u001b[0;32m    342\u001b[0m             \u001b[1;31m# Finally look for special method names\u001b[0m\u001b[1;33m\u001b[0m\u001b[1;33m\u001b[0m\u001b[1;33m\u001b[0m\u001b[0m\n\u001b[0;32m    343\u001b[0m             \u001b[0mmethod\u001b[0m \u001b[1;33m=\u001b[0m \u001b[0mget_real_method\u001b[0m\u001b[1;33m(\u001b[0m\u001b[0mobj\u001b[0m\u001b[1;33m,\u001b[0m \u001b[0mself\u001b[0m\u001b[1;33m.\u001b[0m\u001b[0mprint_method\u001b[0m\u001b[1;33m)\u001b[0m\u001b[1;33m\u001b[0m\u001b[1;33m\u001b[0m\u001b[0m\n",
      "\u001b[1;32m~\\anaconda3\\lib\\site-packages\\IPython\\core\\pylabtools.py\u001b[0m in \u001b[0;36m<lambda>\u001b[1;34m(fig)\u001b[0m\n\u001b[0;32m    246\u001b[0m \u001b[1;33m\u001b[0m\u001b[0m\n\u001b[0;32m    247\u001b[0m     \u001b[1;32mif\u001b[0m \u001b[1;34m'png'\u001b[0m \u001b[1;32min\u001b[0m \u001b[0mformats\u001b[0m\u001b[1;33m:\u001b[0m\u001b[1;33m\u001b[0m\u001b[1;33m\u001b[0m\u001b[0m\n\u001b[1;32m--> 248\u001b[1;33m         \u001b[0mpng_formatter\u001b[0m\u001b[1;33m.\u001b[0m\u001b[0mfor_type\u001b[0m\u001b[1;33m(\u001b[0m\u001b[0mFigure\u001b[0m\u001b[1;33m,\u001b[0m \u001b[1;32mlambda\u001b[0m \u001b[0mfig\u001b[0m\u001b[1;33m:\u001b[0m \u001b[0mprint_figure\u001b[0m\u001b[1;33m(\u001b[0m\u001b[0mfig\u001b[0m\u001b[1;33m,\u001b[0m \u001b[1;34m'png'\u001b[0m\u001b[1;33m,\u001b[0m \u001b[1;33m**\u001b[0m\u001b[0mkwargs\u001b[0m\u001b[1;33m)\u001b[0m\u001b[1;33m)\u001b[0m\u001b[1;33m\u001b[0m\u001b[1;33m\u001b[0m\u001b[0m\n\u001b[0m\u001b[0;32m    249\u001b[0m     \u001b[1;32mif\u001b[0m \u001b[1;34m'retina'\u001b[0m \u001b[1;32min\u001b[0m \u001b[0mformats\u001b[0m \u001b[1;32mor\u001b[0m \u001b[1;34m'png2x'\u001b[0m \u001b[1;32min\u001b[0m \u001b[0mformats\u001b[0m\u001b[1;33m:\u001b[0m\u001b[1;33m\u001b[0m\u001b[1;33m\u001b[0m\u001b[0m\n\u001b[0;32m    250\u001b[0m         \u001b[0mpng_formatter\u001b[0m\u001b[1;33m.\u001b[0m\u001b[0mfor_type\u001b[0m\u001b[1;33m(\u001b[0m\u001b[0mFigure\u001b[0m\u001b[1;33m,\u001b[0m \u001b[1;32mlambda\u001b[0m \u001b[0mfig\u001b[0m\u001b[1;33m:\u001b[0m \u001b[0mretina_figure\u001b[0m\u001b[1;33m(\u001b[0m\u001b[0mfig\u001b[0m\u001b[1;33m,\u001b[0m \u001b[1;33m**\u001b[0m\u001b[0mkwargs\u001b[0m\u001b[1;33m)\u001b[0m\u001b[1;33m)\u001b[0m\u001b[1;33m\u001b[0m\u001b[1;33m\u001b[0m\u001b[0m\n",
      "\u001b[1;32m~\\anaconda3\\lib\\site-packages\\IPython\\core\\pylabtools.py\u001b[0m in \u001b[0;36mprint_figure\u001b[1;34m(fig, fmt, bbox_inches, **kwargs)\u001b[0m\n\u001b[0;32m    130\u001b[0m         \u001b[0mFigureCanvasBase\u001b[0m\u001b[1;33m(\u001b[0m\u001b[0mfig\u001b[0m\u001b[1;33m)\u001b[0m\u001b[1;33m\u001b[0m\u001b[1;33m\u001b[0m\u001b[0m\n\u001b[0;32m    131\u001b[0m \u001b[1;33m\u001b[0m\u001b[0m\n\u001b[1;32m--> 132\u001b[1;33m     \u001b[0mfig\u001b[0m\u001b[1;33m.\u001b[0m\u001b[0mcanvas\u001b[0m\u001b[1;33m.\u001b[0m\u001b[0mprint_figure\u001b[0m\u001b[1;33m(\u001b[0m\u001b[0mbytes_io\u001b[0m\u001b[1;33m,\u001b[0m \u001b[1;33m**\u001b[0m\u001b[0mkw\u001b[0m\u001b[1;33m)\u001b[0m\u001b[1;33m\u001b[0m\u001b[1;33m\u001b[0m\u001b[0m\n\u001b[0m\u001b[0;32m    133\u001b[0m     \u001b[0mdata\u001b[0m \u001b[1;33m=\u001b[0m \u001b[0mbytes_io\u001b[0m\u001b[1;33m.\u001b[0m\u001b[0mgetvalue\u001b[0m\u001b[1;33m(\u001b[0m\u001b[1;33m)\u001b[0m\u001b[1;33m\u001b[0m\u001b[1;33m\u001b[0m\u001b[0m\n\u001b[0;32m    134\u001b[0m     \u001b[1;32mif\u001b[0m \u001b[0mfmt\u001b[0m \u001b[1;33m==\u001b[0m \u001b[1;34m'svg'\u001b[0m\u001b[1;33m:\u001b[0m\u001b[1;33m\u001b[0m\u001b[1;33m\u001b[0m\u001b[0m\n",
      "\u001b[1;32m~\\anaconda3\\lib\\site-packages\\matplotlib\\backend_bases.py\u001b[0m in \u001b[0;36mprint_figure\u001b[1;34m(self, filename, dpi, facecolor, edgecolor, orientation, format, bbox_inches, **kwargs)\u001b[0m\n\u001b[0;32m   2063\u001b[0m                         \u001b[0morientation\u001b[0m\u001b[1;33m=\u001b[0m\u001b[0morientation\u001b[0m\u001b[1;33m,\u001b[0m\u001b[1;33m\u001b[0m\u001b[1;33m\u001b[0m\u001b[0m\n\u001b[0;32m   2064\u001b[0m                         \u001b[0mdryrun\u001b[0m\u001b[1;33m=\u001b[0m\u001b[1;32mTrue\u001b[0m\u001b[1;33m,\u001b[0m\u001b[1;33m\u001b[0m\u001b[1;33m\u001b[0m\u001b[0m\n\u001b[1;32m-> 2065\u001b[1;33m                         **kwargs)\n\u001b[0m\u001b[0;32m   2066\u001b[0m                     \u001b[0mrenderer\u001b[0m \u001b[1;33m=\u001b[0m \u001b[0mself\u001b[0m\u001b[1;33m.\u001b[0m\u001b[0mfigure\u001b[0m\u001b[1;33m.\u001b[0m\u001b[0m_cachedRenderer\u001b[0m\u001b[1;33m\u001b[0m\u001b[1;33m\u001b[0m\u001b[0m\n\u001b[0;32m   2067\u001b[0m                     \u001b[0mbbox_artists\u001b[0m \u001b[1;33m=\u001b[0m \u001b[0mkwargs\u001b[0m\u001b[1;33m.\u001b[0m\u001b[0mpop\u001b[0m\u001b[1;33m(\u001b[0m\u001b[1;34m\"bbox_extra_artists\"\u001b[0m\u001b[1;33m,\u001b[0m \u001b[1;32mNone\u001b[0m\u001b[1;33m)\u001b[0m\u001b[1;33m\u001b[0m\u001b[1;33m\u001b[0m\u001b[0m\n",
      "\u001b[1;32m~\\anaconda3\\lib\\site-packages\\matplotlib\\backends\\backend_agg.py\u001b[0m in \u001b[0;36mprint_png\u001b[1;34m(self, filename_or_obj, metadata, pil_kwargs, *args, **kwargs)\u001b[0m\n\u001b[0;32m    525\u001b[0m \u001b[1;33m\u001b[0m\u001b[0m\n\u001b[0;32m    526\u001b[0m         \u001b[1;32melse\u001b[0m\u001b[1;33m:\u001b[0m\u001b[1;33m\u001b[0m\u001b[1;33m\u001b[0m\u001b[0m\n\u001b[1;32m--> 527\u001b[1;33m             \u001b[0mFigureCanvasAgg\u001b[0m\u001b[1;33m.\u001b[0m\u001b[0mdraw\u001b[0m\u001b[1;33m(\u001b[0m\u001b[0mself\u001b[0m\u001b[1;33m)\u001b[0m\u001b[1;33m\u001b[0m\u001b[1;33m\u001b[0m\u001b[0m\n\u001b[0m\u001b[0;32m    528\u001b[0m             \u001b[0mrenderer\u001b[0m \u001b[1;33m=\u001b[0m \u001b[0mself\u001b[0m\u001b[1;33m.\u001b[0m\u001b[0mget_renderer\u001b[0m\u001b[1;33m(\u001b[0m\u001b[1;33m)\u001b[0m\u001b[1;33m\u001b[0m\u001b[1;33m\u001b[0m\u001b[0m\n\u001b[0;32m    529\u001b[0m             \u001b[1;32mwith\u001b[0m \u001b[0mcbook\u001b[0m\u001b[1;33m.\u001b[0m\u001b[0m_setattr_cm\u001b[0m\u001b[1;33m(\u001b[0m\u001b[0mrenderer\u001b[0m\u001b[1;33m,\u001b[0m \u001b[0mdpi\u001b[0m\u001b[1;33m=\u001b[0m\u001b[0mself\u001b[0m\u001b[1;33m.\u001b[0m\u001b[0mfigure\u001b[0m\u001b[1;33m.\u001b[0m\u001b[0mdpi\u001b[0m\u001b[1;33m)\u001b[0m\u001b[1;33m,\u001b[0m\u001b[0;31m \u001b[0m\u001b[0;31m\\\u001b[0m\u001b[1;33m\u001b[0m\u001b[1;33m\u001b[0m\u001b[0m\n",
      "\u001b[1;32m~\\anaconda3\\lib\\site-packages\\matplotlib\\backends\\backend_agg.py\u001b[0m in \u001b[0;36mdraw\u001b[1;34m(self)\u001b[0m\n\u001b[0;32m    384\u001b[0m         \u001b[0mDraw\u001b[0m \u001b[0mthe\u001b[0m \u001b[0mfigure\u001b[0m \u001b[0musing\u001b[0m \u001b[0mthe\u001b[0m \u001b[0mrenderer\u001b[0m\u001b[1;33m.\u001b[0m\u001b[1;33m\u001b[0m\u001b[1;33m\u001b[0m\u001b[0m\n\u001b[0;32m    385\u001b[0m         \"\"\"\n\u001b[1;32m--> 386\u001b[1;33m         \u001b[0mself\u001b[0m\u001b[1;33m.\u001b[0m\u001b[0mrenderer\u001b[0m \u001b[1;33m=\u001b[0m \u001b[0mself\u001b[0m\u001b[1;33m.\u001b[0m\u001b[0mget_renderer\u001b[0m\u001b[1;33m(\u001b[0m\u001b[0mcleared\u001b[0m\u001b[1;33m=\u001b[0m\u001b[1;32mTrue\u001b[0m\u001b[1;33m)\u001b[0m\u001b[1;33m\u001b[0m\u001b[1;33m\u001b[0m\u001b[0m\n\u001b[0m\u001b[0;32m    387\u001b[0m         \u001b[1;32mwith\u001b[0m \u001b[0mRendererAgg\u001b[0m\u001b[1;33m.\u001b[0m\u001b[0mlock\u001b[0m\u001b[1;33m:\u001b[0m\u001b[1;33m\u001b[0m\u001b[1;33m\u001b[0m\u001b[0m\n\u001b[0;32m    388\u001b[0m             \u001b[0mself\u001b[0m\u001b[1;33m.\u001b[0m\u001b[0mfigure\u001b[0m\u001b[1;33m.\u001b[0m\u001b[0mdraw\u001b[0m\u001b[1;33m(\u001b[0m\u001b[0mself\u001b[0m\u001b[1;33m.\u001b[0m\u001b[0mrenderer\u001b[0m\u001b[1;33m)\u001b[0m\u001b[1;33m\u001b[0m\u001b[1;33m\u001b[0m\u001b[0m\n",
      "\u001b[1;32m~\\anaconda3\\lib\\site-packages\\matplotlib\\backends\\backend_agg.py\u001b[0m in \u001b[0;36mget_renderer\u001b[1;34m(self, cleared)\u001b[0m\n\u001b[0;32m    397\u001b[0m                           and getattr(self, \"_lastKey\", None) == key)\n\u001b[0;32m    398\u001b[0m         \u001b[1;32mif\u001b[0m \u001b[1;32mnot\u001b[0m \u001b[0mreuse_renderer\u001b[0m\u001b[1;33m:\u001b[0m\u001b[1;33m\u001b[0m\u001b[1;33m\u001b[0m\u001b[0m\n\u001b[1;32m--> 399\u001b[1;33m             \u001b[0mself\u001b[0m\u001b[1;33m.\u001b[0m\u001b[0mrenderer\u001b[0m \u001b[1;33m=\u001b[0m \u001b[0mRendererAgg\u001b[0m\u001b[1;33m(\u001b[0m\u001b[0mw\u001b[0m\u001b[1;33m,\u001b[0m \u001b[0mh\u001b[0m\u001b[1;33m,\u001b[0m \u001b[0mself\u001b[0m\u001b[1;33m.\u001b[0m\u001b[0mfigure\u001b[0m\u001b[1;33m.\u001b[0m\u001b[0mdpi\u001b[0m\u001b[1;33m)\u001b[0m\u001b[1;33m\u001b[0m\u001b[1;33m\u001b[0m\u001b[0m\n\u001b[0m\u001b[0;32m    400\u001b[0m             \u001b[0mself\u001b[0m\u001b[1;33m.\u001b[0m\u001b[0m_lastKey\u001b[0m \u001b[1;33m=\u001b[0m \u001b[0mkey\u001b[0m\u001b[1;33m\u001b[0m\u001b[1;33m\u001b[0m\u001b[0m\n\u001b[0;32m    401\u001b[0m         \u001b[1;32melif\u001b[0m \u001b[0mcleared\u001b[0m\u001b[1;33m:\u001b[0m\u001b[1;33m\u001b[0m\u001b[1;33m\u001b[0m\u001b[0m\n",
      "\u001b[1;32m~\\anaconda3\\lib\\site-packages\\matplotlib\\backends\\backend_agg.py\u001b[0m in \u001b[0;36m__init__\u001b[1;34m(self, width, height, dpi)\u001b[0m\n\u001b[0;32m     84\u001b[0m         \u001b[0mself\u001b[0m\u001b[1;33m.\u001b[0m\u001b[0mwidth\u001b[0m \u001b[1;33m=\u001b[0m \u001b[0mwidth\u001b[0m\u001b[1;33m\u001b[0m\u001b[1;33m\u001b[0m\u001b[0m\n\u001b[0;32m     85\u001b[0m         \u001b[0mself\u001b[0m\u001b[1;33m.\u001b[0m\u001b[0mheight\u001b[0m \u001b[1;33m=\u001b[0m \u001b[0mheight\u001b[0m\u001b[1;33m\u001b[0m\u001b[1;33m\u001b[0m\u001b[0m\n\u001b[1;32m---> 86\u001b[1;33m         \u001b[0mself\u001b[0m\u001b[1;33m.\u001b[0m\u001b[0m_renderer\u001b[0m \u001b[1;33m=\u001b[0m \u001b[0m_RendererAgg\u001b[0m\u001b[1;33m(\u001b[0m\u001b[0mint\u001b[0m\u001b[1;33m(\u001b[0m\u001b[0mwidth\u001b[0m\u001b[1;33m)\u001b[0m\u001b[1;33m,\u001b[0m \u001b[0mint\u001b[0m\u001b[1;33m(\u001b[0m\u001b[0mheight\u001b[0m\u001b[1;33m)\u001b[0m\u001b[1;33m,\u001b[0m \u001b[0mdpi\u001b[0m\u001b[1;33m)\u001b[0m\u001b[1;33m\u001b[0m\u001b[1;33m\u001b[0m\u001b[0m\n\u001b[0m\u001b[0;32m     87\u001b[0m         \u001b[0mself\u001b[0m\u001b[1;33m.\u001b[0m\u001b[0m_filter_renderers\u001b[0m \u001b[1;33m=\u001b[0m \u001b[1;33m[\u001b[0m\u001b[1;33m]\u001b[0m\u001b[1;33m\u001b[0m\u001b[1;33m\u001b[0m\u001b[0m\n\u001b[0;32m     88\u001b[0m \u001b[1;33m\u001b[0m\u001b[0m\n",
      "\u001b[1;31mValueError\u001b[0m: Image size of 7200000x7200000 pixels is too large. It must be less than 2^16 in each direction."
     ]
    },
    {
     "data": {
      "text/plain": [
       "<Figure size 7.2e+06x7.2e+06 with 1 Axes>"
      ]
     },
     "metadata": {
      "needs_background": "light"
     },
     "output_type": "display_data"
    }
   ],
   "source": [
    "plan = Psi_points[:,0:3:2]\n",
    "H, xedges, yedges = np.histogram2d(Psi_points[:, 0], Psi_points[:, 2], bins=(range(len(Psi_points)), range(len(Psi_points))))\n",
    "H = H.T\n",
    "fig = plt.figure(figsize=(100000, 100000))\n",
    "ax = fig.add_subplot(132, title='plan', aspect='equal')\n",
    "X, Y = np.meshgrid(xedges, yedges)\n",
    "ax.pcolormesh(X, Y, H)\n",
    "plt.show()"
   ]
  },
  {
   "cell_type": "code",
   "execution_count": 150,
   "metadata": {},
   "outputs": [
    {
     "name": "stdout",
     "output_type": "stream",
     "text": [
      "[[-1.1455 -3.7258  0.    ]\n",
      " [-1.1458 -3.7267  0.    ]\n",
      " [-1.1463 -3.7283  0.    ]\n",
      " ...\n",
      " [ 1.0277 -3.7018  0.    ]\n",
      " [ 1.02   -3.674   0.    ]\n",
      " [ 1.0105 -3.6398  0.    ]]\n"
     ]
    }
   ],
   "source": [
    "walls_2Dpoints = np.copy(walls_points)\n",
    "walls_2Dpoints[:, 2] = np.zeros(len(walls_2Dpoints))\n",
    "print(walls_2Dpoints)\n",
    "pcd.points = o3d.utility.Vector3dVector(walls_2Dpoints)\n",
    "pcd.colors = o3d.utility.Vector3dVector(np.repeat(np.random.random(3).reshape(1, 3), len(walls_2Dpoints), axis = 0))\n",
    "o3d.visualization.draw_geometries([pcd])"
   ]
  },
  {
   "cell_type": "code",
   "execution_count": null,
   "metadata": {},
   "outputs": [],
   "source": []
  }
 ],
 "metadata": {
  "celltoolbar": "Raw Cell Format",
  "colab": {
   "name": "Untitled2.ipynb",
   "provenance": []
  },
  "kernelspec": {
   "display_name": "Python 3",
   "language": "python",
   "name": "python3"
  },
  "language_info": {
   "codemirror_mode": {
    "name": "ipython",
    "version": 2
   },
   "file_extension": ".py",
   "mimetype": "text/x-python",
   "name": "python",
   "nbconvert_exporter": "python",
   "pygments_lexer": "ipython2",
   "version": "2.7.16"
  }
 },
 "nbformat": 4,
 "nbformat_minor": 1
}
