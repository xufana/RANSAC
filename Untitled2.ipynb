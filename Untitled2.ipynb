{
 "cells": [
  {
   "cell_type": "code",
   "execution_count": 1,
   "metadata": {
    "colab": {
     "base_uri": "https://localhost:8080/",
     "height": 819
    },
    "colab_type": "code",
    "id": "TI4vArioT_NS",
    "outputId": "f0d4f7ea-2a49-42ca-962d-e04448b39a65"
   },
   "outputs": [
    {
     "name": "stdout",
     "output_type": "stream",
     "text": [
      "Requirement already satisfied: open3d in /usr/local/lib/python3.7/site-packages (0.10.0.0)\n",
      "Requirement already satisfied: widgetsnbextension in /usr/local/lib/python3.7/site-packages (from open3d) (3.4.2)\n",
      "Requirement already satisfied: matplotlib in /usr/local/lib/python3.7/site-packages (from open3d) (3.2.2)\n",
      "Requirement already satisfied: notebook in /usr/local/lib/python3.7/site-packages (from open3d) (5.7.1)\n",
      "Requirement already satisfied: numpy in /usr/local/lib/python3.7/site-packages (from open3d) (1.17.0)\n",
      "Requirement already satisfied: ipywidgets in /usr/local/lib/python3.7/site-packages (from open3d) (7.4.2)\n",
      "Requirement already satisfied: kiwisolver>=1.0.1 in /usr/local/lib/python3.7/site-packages (from matplotlib->open3d) (1.2.0)\n",
      "Requirement already satisfied: pyparsing!=2.0.4,!=2.1.2,!=2.1.6,>=2.0.1 in /usr/local/lib/python3.7/site-packages (from matplotlib->open3d) (2.4.7)\n",
      "Requirement already satisfied: cycler>=0.10 in /usr/local/lib/python3.7/site-packages (from matplotlib->open3d) (0.10.0)\n",
      "Requirement already satisfied: python-dateutil>=2.1 in /usr/local/lib/python3.7/site-packages (from matplotlib->open3d) (2.7.5)\n",
      "Requirement already satisfied: ipykernel in /usr/local/lib/python3.7/site-packages (from notebook->open3d) (5.1.0)\n",
      "Requirement already satisfied: ipython-genutils in /usr/local/lib/python3.7/site-packages (from notebook->open3d) (0.2.0)\n",
      "Requirement already satisfied: prometheus-client in /usr/local/lib/python3.7/site-packages (from notebook->open3d) (0.4.2)\n",
      "Requirement already satisfied: nbconvert in /usr/local/lib/python3.7/site-packages (from notebook->open3d) (5.4.0)\n",
      "Requirement already satisfied: nbformat in /usr/local/lib/python3.7/site-packages (from notebook->open3d) (4.4.0)\n",
      "Requirement already satisfied: pyzmq>=17 in /usr/local/lib/python3.7/site-packages (from notebook->open3d) (17.1.2)\n",
      "Requirement already satisfied: jupyter-core>=4.4.0 in /usr/local/lib/python3.7/site-packages (from notebook->open3d) (4.4.0)\n",
      "Requirement already satisfied: terminado>=0.8.1 in /usr/local/lib/python3.7/site-packages (from notebook->open3d) (0.8.1)\n",
      "Requirement already satisfied: traitlets>=4.2.1 in /usr/local/lib/python3.7/site-packages (from notebook->open3d) (4.3.2)\n",
      "Requirement already satisfied: tornado>=4 in /usr/local/lib/python3.7/site-packages (from notebook->open3d) (5.1.1)\n",
      "Requirement already satisfied: jupyter-client>=5.2.0 in /usr/local/lib/python3.7/site-packages (from notebook->open3d) (5.2.3)\n",
      "Requirement already satisfied: Send2Trash in /usr/local/lib/python3.7/site-packages (from notebook->open3d) (1.5.0)\n",
      "Requirement already satisfied: jinja2 in /usr/local/lib/python3.7/site-packages (from notebook->open3d) (2.10)\n",
      "Requirement already satisfied: ipython>=4.0.0; python_version >= \"3.3\" in /usr/local/lib/python3.7/site-packages (from ipywidgets->open3d) (7.1.1)\n",
      "Requirement already satisfied: six in /usr/local/lib/python3.7/site-packages (from cycler>=0.10->matplotlib->open3d) (1.11.0)\n",
      "Requirement already satisfied: bleach in /usr/local/lib/python3.7/site-packages (from nbconvert->notebook->open3d) (3.0.2)\n",
      "Requirement already satisfied: mistune>=0.8.1 in /usr/local/lib/python3.7/site-packages (from nbconvert->notebook->open3d) (0.8.4)\n",
      "Requirement already satisfied: pandocfilters>=1.4.1 in /usr/local/lib/python3.7/site-packages (from nbconvert->notebook->open3d) (1.4.2)\n",
      "Requirement already satisfied: entrypoints>=0.2.2 in /usr/local/lib/python3.7/site-packages (from nbconvert->notebook->open3d) (0.2.3)\n",
      "Requirement already satisfied: pygments in /usr/local/lib/python3.7/site-packages (from nbconvert->notebook->open3d) (2.2.0)\n",
      "Requirement already satisfied: defusedxml in /usr/local/lib/python3.7/site-packages (from nbconvert->notebook->open3d) (0.5.0)\n",
      "Requirement already satisfied: testpath in /usr/local/lib/python3.7/site-packages (from nbconvert->notebook->open3d) (0.4.2)\n",
      "Requirement already satisfied: jsonschema!=2.5.0,>=2.4 in /usr/local/lib/python3.7/site-packages (from nbformat->notebook->open3d) (2.6.0)\n",
      "Requirement already satisfied: ptyprocess; os_name != \"nt\" in /usr/local/lib/python3.7/site-packages (from terminado>=0.8.1->notebook->open3d) (0.6.0)\n",
      "Requirement already satisfied: decorator in /usr/local/lib/python3.7/site-packages (from traitlets>=4.2.1->notebook->open3d) (4.3.0)\n",
      "Requirement already satisfied: MarkupSafe>=0.23 in /usr/local/lib/python3.7/site-packages (from jinja2->notebook->open3d) (1.1.0)\n",
      "Requirement already satisfied: appnope; sys_platform == \"darwin\" in /usr/local/lib/python3.7/site-packages (from ipython>=4.0.0; python_version >= \"3.3\"->ipywidgets->open3d) (0.1.0)\n",
      "Requirement already satisfied: pickleshare in /usr/local/lib/python3.7/site-packages (from ipython>=4.0.0; python_version >= \"3.3\"->ipywidgets->open3d) (0.7.5)\n",
      "Requirement already satisfied: pexpect; sys_platform != \"win32\" in /usr/local/lib/python3.7/site-packages (from ipython>=4.0.0; python_version >= \"3.3\"->ipywidgets->open3d) (4.6.0)\n",
      "Requirement already satisfied: backcall in /usr/local/lib/python3.7/site-packages (from ipython>=4.0.0; python_version >= \"3.3\"->ipywidgets->open3d) (0.1.0)\n",
      "Requirement already satisfied: prompt-toolkit<2.1.0,>=2.0.0 in /usr/local/lib/python3.7/site-packages (from ipython>=4.0.0; python_version >= \"3.3\"->ipywidgets->open3d) (2.0.7)\n",
      "Requirement already satisfied: setuptools>=18.5 in /usr/local/lib/python3.7/site-packages (from ipython>=4.0.0; python_version >= \"3.3\"->ipywidgets->open3d) (41.0.1)\n",
      "Requirement already satisfied: jedi>=0.10 in /usr/local/lib/python3.7/site-packages (from ipython>=4.0.0; python_version >= \"3.3\"->ipywidgets->open3d) (0.13.1)\n",
      "Requirement already satisfied: webencodings in /usr/local/lib/python3.7/site-packages (from bleach->nbconvert->notebook->open3d) (0.5.1)\n",
      "Requirement already satisfied: wcwidth in /usr/local/lib/python3.7/site-packages (from prompt-toolkit<2.1.0,>=2.0.0->ipython>=4.0.0; python_version >= \"3.3\"->ipywidgets->open3d) (0.1.7)\n",
      "Requirement already satisfied: parso>=0.3.0 in /usr/local/lib/python3.7/site-packages (from jedi>=0.10->ipython>=4.0.0; python_version >= \"3.3\"->ipywidgets->open3d) (0.3.1)\n"
     ]
    }
   ],
   "source": [
    "!pip3 install open3d"
   ]
  },
  {
   "cell_type": "code",
   "execution_count": 2,
   "metadata": {
    "colab": {},
    "colab_type": "code",
    "id": "cLsdeA2ZQl2b"
   },
   "outputs": [],
   "source": [
    "import numpy as np\n",
    "import open3d as o3d\n",
    "import matplotlib.pyplot as plt\n",
    "import math"
   ]
  },
  {
   "cell_type": "code",
   "execution_count": 3,
   "metadata": {
    "colab": {},
    "colab_type": "code",
    "id": "R7mksfC4SaGX"
   },
   "outputs": [],
   "source": [
    "pcd = o3d.io.read_point_cloud(\"/Users/daraandreeva/Downloads/pointclouds/scene_dense_sber.ply\")"
   ]
  },
  {
   "cell_type": "code",
   "execution_count": 4,
   "metadata": {
    "colab": {},
    "colab_type": "code",
    "id": "_EcLOnhAVTh5"
   },
   "outputs": [
    {
     "data": {
      "text/plain": [
       "array([[-3.81545782, -0.34077999,  1.90094817],\n",
       "       [-3.81499481, -0.34146237,  1.90027225],\n",
       "       [-3.81462741, -0.34079236,  1.89844096],\n",
       "       ...,\n",
       "       [-4.59054852,  0.53128552,  1.52766979],\n",
       "       [-4.58382034,  0.53391516,  1.59634221],\n",
       "       [-4.49518633,  0.53137571,  2.00885963]])"
      ]
     },
     "execution_count": 4,
     "metadata": {},
     "output_type": "execute_result"
    }
   ],
   "source": [
    "point_cloud_in_numpy = np.asarray(pcd.points)\n",
    "point_cloud_in_numpy "
   ]
  },
  {
   "cell_type": "markdown",
   "metadata": {},
   "source": [
    "# NDT"
   ]
  },
  {
   "cell_type": "markdown",
   "metadata": {},
   "source": [
    "Был вариант, для инициализации А использовать VoxelGrid, но я так и не придумала, как вытащить оттуда соотношение кубик-массив точек в нем, поэтому делим каждую координату нацело на s, получаем координаты кубика для каждой точки."
   ]
  },
  {
   "cell_type": "code",
   "execution_count": 19,
   "metadata": {},
   "outputs": [],
   "source": [
    "s = 0.5\n",
    "te = 0.01\n",
    "A = point_cloud_in_numpy // s # разбиение PCD на кубики\n",
    "Q = np.array([0, 0, 0]) # плоские NDT ячейки\n",
    "Q_points = []\n",
    "P = [] # остальные ячейки"
   ]
  },
  {
   "cell_type": "code",
   "execution_count": 6,
   "metadata": {},
   "outputs": [
    {
     "data": {
      "image/png": "[encoded data removed]",
      "text/plain": [
       "<Figure size 1080x360 with 1 Axes>"
      ]
     },
     "metadata": {
      "needs_background": "light"
     },
     "output_type": "display_data"
    }
   ],
   "source": [
    "unique,counts=np.unique(A,axis=0, return_counts=True)\n",
    "plt.figure(figsize=(15,5))\n",
    "plt.bar(range(0, len(counts)), counts, width=1.5, color='g')\n",
    "plt.show()"
   ]
  },
  {
   "cell_type": "code",
   "execution_count": 22,
   "metadata": {},
   "outputs": [
    {
     "name": "stdout",
     "output_type": "stream",
     "text": [
      "[[  0.   0.   0.]\n",
      " [-14.   0.   3.]\n",
      " [-13.   0.   4.]\n",
      " [-11.   0.   4.]\n",
      " [-11.   1.   3.]\n",
      " [-10.  -1.   1.]\n",
      " [-10.   0.   4.]\n",
      " [-10.   1.   1.]\n",
      " [-10.   1.   3.]\n",
      " [ -9.   0.   4.]\n",
      " [ -9.   1.   0.]\n",
      " [ -9.   1.   2.]\n",
      " [ -9.   1.   3.]\n",
      " [ -8.  -1.  -2.]\n",
      " [ -8.  -1.   2.]\n",
      " [ -8.  -1.   3.]\n",
      " [ -8.   0.   4.]\n",
      " [ -8.   1.   2.]\n",
      " [ -8.   1.   3.]\n",
      " [ -7.  -1.  -2.]\n",
      " [ -7.  -1.  -1.]\n",
      " [ -7.  -1.   0.]\n",
      " [ -7.  -1.   1.]\n",
      " [ -7.   0.  -1.]\n",
      " [ -7.   0.   0.]\n",
      " [ -7.   0.   4.]\n",
      " [ -7.   1.  -3.]\n",
      " [ -7.   1.  -2.]\n",
      " [ -7.   1.  -1.]\n",
      " [ -7.   1.   0.]\n",
      " [ -7.   1.   1.]\n",
      " [ -7.   1.   2.]\n",
      " [ -7.   1.   3.]\n",
      " [ -6.  -1.  -2.]\n",
      " [ -6.   0.   3.]\n",
      " [ -6.   1.  -2.]\n",
      " [ -6.   1.   1.]\n",
      " [ -6.   1.   2.]\n",
      " [ -6.   1.   3.]\n",
      " [ -5.  -1.  -2.]\n",
      " [ -5.   0.  -5.]\n",
      " [ -5.   0.   1.]\n",
      " [ -5.   1.  -3.]\n",
      " [ -5.   1.  -2.]\n",
      " [ -4.   0.  -6.]\n",
      " [ -4.   0.  -3.]\n",
      " [ -4.   1.  -3.]\n",
      " [ -4.   1.  -2.]\n",
      " [ -3.   0.  -3.]\n",
      " [ -3.   1.  -3.]\n",
      " [ -3.   1.  -2.]\n",
      " [ -2.  -1.  -4.]\n",
      " [ -2.  -1.  -2.]\n",
      " [ -2.   0.  -3.]\n",
      " [ -2.   0.   1.]\n",
      " [ -2.   1.  -3.]\n",
      " [ -2.   1.  -2.]\n",
      " [ -1.  -1.  -5.]\n",
      " [ -1.  -1.  -2.]\n",
      " [ -1.  -1.   0.]\n",
      " [ -1.   1.  -4.]\n",
      " [ -1.   1.  -3.]\n",
      " [ -1.   1.  -2.]\n",
      " [ -1.   1.  -1.]\n",
      " [ -1.   1.   0.]\n",
      " [  0.   1.  -4.]\n",
      " [  0.   1.  -3.]\n",
      " [  0.   1.  -2.]\n",
      " [  0.   1.  -1.]\n",
      " [  0.   1.   0.]\n",
      " [  1.   1.  -1.]\n",
      " [  2.  -1.  -2.]\n",
      " [-14.   0.   3.]\n",
      " [-13.   0.   4.]\n",
      " [-11.   0.   4.]\n",
      " [-11.   1.   3.]\n",
      " [-10.  -1.   1.]\n",
      " [-10.   0.   4.]\n",
      " [-10.   1.   1.]\n",
      " [-10.   1.   3.]\n",
      " [ -9.   0.   4.]\n",
      " [ -9.   1.   0.]\n",
      " [ -9.   1.   2.]\n",
      " [ -9.   1.   3.]\n",
      " [ -8.  -1.  -2.]\n",
      " [ -8.  -1.   2.]\n",
      " [ -8.  -1.   3.]\n",
      " [ -8.   0.   4.]\n",
      " [ -8.   1.   2.]\n",
      " [ -8.   1.   3.]\n",
      " [ -7.  -1.  -2.]\n",
      " [ -7.  -1.  -1.]\n",
      " [ -7.  -1.   0.]\n",
      " [ -7.  -1.   1.]\n",
      " [ -7.   0.  -1.]\n",
      " [ -7.   0.   0.]\n",
      " [ -7.   0.   4.]\n",
      " [ -7.   1.  -3.]\n",
      " [ -7.   1.  -2.]\n",
      " [ -7.   1.  -1.]\n",
      " [ -7.   1.   0.]\n",
      " [ -7.   1.   1.]\n",
      " [ -7.   1.   2.]\n",
      " [ -7.   1.   3.]\n",
      " [ -6.  -1.  -2.]\n",
      " [ -6.   0.   3.]\n",
      " [ -6.   1.  -2.]\n",
      " [ -6.   1.   1.]\n",
      " [ -6.   1.   2.]\n",
      " [ -6.   1.   3.]\n",
      " [ -5.  -1.  -2.]\n",
      " [ -5.   0.  -5.]\n",
      " [ -5.   0.   1.]\n",
      " [ -5.   1.  -3.]\n",
      " [ -5.   1.  -2.]\n",
      " [ -4.   0.  -6.]\n",
      " [ -4.   0.  -3.]\n",
      " [ -4.   1.  -3.]\n",
      " [ -4.   1.  -2.]\n",
      " [ -3.   0.  -3.]\n",
      " [ -3.   1.  -3.]\n",
      " [ -3.   1.  -2.]\n",
      " [ -2.  -1.  -4.]\n",
      " [ -2.  -1.  -2.]\n",
      " [ -2.   0.  -3.]\n",
      " [ -2.   0.   1.]\n",
      " [ -2.   1.  -3.]\n",
      " [ -2.   1.  -2.]\n",
      " [ -1.  -1.  -5.]\n",
      " [ -1.  -1.  -2.]\n",
      " [ -1.  -1.   0.]\n",
      " [ -1.   1.  -4.]\n",
      " [ -1.   1.  -3.]\n",
      " [ -1.   1.  -2.]\n",
      " [ -1.   1.  -1.]\n",
      " [ -1.   1.   0.]\n",
      " [  0.   1.  -4.]\n",
      " [  0.   1.  -3.]\n",
      " [  0.   1.  -2.]\n",
      " [  0.   1.  -1.]\n",
      " [  0.   1.   0.]\n",
      " [  1.   1.  -1.]\n",
      " [  2.  -1.  -2.]\n",
      " [-14.   0.   3.]\n",
      " [-13.   0.   4.]\n",
      " [-11.   0.   4.]\n",
      " [-11.   1.   3.]\n",
      " [-10.  -1.   1.]\n",
      " [-10.   0.   4.]\n",
      " [-10.   1.   1.]\n",
      " [-10.   1.   3.]\n",
      " [ -9.   0.   4.]\n",
      " [ -9.   1.   0.]\n",
      " [ -9.   1.   2.]\n",
      " [ -9.   1.   3.]\n",
      " [ -8.  -1.  -2.]\n",
      " [ -8.  -1.   2.]\n",
      " [ -8.  -1.   3.]\n",
      " [ -8.   0.   4.]\n",
      " [ -8.   1.   2.]\n",
      " [ -8.   1.   3.]\n",
      " [ -7.  -1.  -2.]\n",
      " [ -7.  -1.  -1.]\n",
      " [ -7.  -1.   0.]\n",
      " [ -7.  -1.   1.]\n",
      " [ -7.   0.  -1.]\n",
      " [ -7.   0.   0.]\n",
      " [ -7.   0.   4.]\n",
      " [ -7.   1.  -3.]\n",
      " [ -7.   1.  -2.]\n",
      " [ -7.   1.  -1.]\n",
      " [ -7.   1.   0.]\n",
      " [ -7.   1.   1.]\n",
      " [ -7.   1.   2.]\n",
      " [ -7.   1.   3.]\n",
      " [ -6.  -1.  -2.]\n",
      " [ -6.   0.   3.]\n",
      " [ -6.   1.  -2.]\n",
      " [ -6.   1.   1.]\n",
      " [ -6.   1.   2.]\n",
      " [ -6.   1.   3.]\n",
      " [ -5.  -1.  -2.]\n",
      " [ -5.   0.  -5.]\n",
      " [ -5.   0.   1.]\n",
      " [ -5.   1.  -3.]\n",
      " [ -5.   1.  -2.]\n",
      " [ -4.   0.  -6.]\n",
      " [ -4.   0.  -3.]\n",
      " [ -4.   1.  -3.]\n",
      " [ -4.   1.  -2.]\n",
      " [ -3.   0.  -3.]\n",
      " [ -3.   1.  -3.]\n",
      " [ -3.   1.  -2.]\n",
      " [ -2.  -1.  -4.]\n",
      " [ -2.  -1.  -2.]\n",
      " [ -2.   0.  -3.]\n",
      " [ -2.   0.   1.]\n",
      " [ -2.   1.  -3.]\n",
      " [ -2.   1.  -2.]\n",
      " [ -1.  -1.  -5.]\n",
      " [ -1.  -1.  -2.]\n",
      " [ -1.  -1.   0.]\n",
      " [ -1.   1.  -4.]\n",
      " [ -1.   1.  -3.]\n",
      " [ -1.   1.  -2.]\n",
      " [ -1.   1.  -1.]\n",
      " [ -1.   1.   0.]\n",
      " [  0.   1.  -4.]\n",
      " [  0.   1.  -3.]\n",
      " [  0.   1.  -2.]\n",
      " [  0.   1.  -1.]\n",
      " [  0.   1.   0.]\n",
      " [  1.   1.  -1.]\n",
      " [  2.  -1.  -2.]]\n"
     ]
    }
   ],
   "source": [
    "mu = []\n",
    "for ind, i in enumerate(unique):\n",
    "    this_cell = np.array(point_cloud_in_numpy[np.where(np.prod(A == i, axis = -1))])\n",
    "    if (len(this_cell) <= 3):\n",
    "        P.append(this_cell)\n",
    "        continue\n",
    "    mu.append(np.mean(this_cell))\n",
    "    cov = np.cov(np.array(this_cell).T)\n",
    "    #print(\"cov = \", cov)\n",
    "    w, v = np.linalg.eig(cov)\n",
    "    w = np.sort(w)\n",
    "    #print(\"values = \", w)\n",
    "    if (abs(w[0] / w[1]) <= te):\n",
    "        Q = np.vstack((Q, i))\n",
    "        Q_points.append(list(this_cell))\n",
    "    else:\n",
    "        P.append(list(this_cell))\n",
    "Q = Q[1:,]"
   ]
  },
  {
   "cell_type": "markdown",
   "metadata": {},
   "source": [
    "# RANSAC"
   ]
  },
  {
   "cell_type": "code",
   "execution_count": null,
   "metadata": {},
   "outputs": [],
   "source": [
    "k_max = 50\n",
    "nu = 0.95\n",
    "delta_d = 0.08\n",
    "n = 0\n",
    "delta_theta = math.cos(math.pi / 12)\n",
    "k = 0\n",
    "Psi = np.zeros(len(Q), dtype=np.bool)\n",
    "Psi_size = 0\n",
    "Psi_points = []"
   ]
  },
  {
   "cell_type": "code",
   "execution_count": null,
   "metadata": {},
   "outputs": [],
   "source": [
    "# пытаемся в линейную регрессию, чтобы найти нормаль\n",
    "def find_normal(surf):\n",
    "    R = np.transpose(np.vstack((surf[:, 1], surf[:, 2], np.ones(np.shape(surf[:, 2])))))\n",
    "    a = np.linalg.inv(np.transpose(R) @ R) @ np.transpose(R) @ surf[:, 0]\n",
    "    if a[0] >= 1e6 or a[1] >= 1e6:\n",
    "        R = np.transpose(np.vstack((surf[:, 0], surf[:, 2], np.ones(np.shape(surf[:, 2])))))\n",
    "        a = np.linalg.inv(np.transpose(R) @ R) @ np.transpose(R) @ surf[:, 1]\n",
    "        return np.array([a[0] * (-1), 1, a[1] * (-1)])\n",
    "    return np.array([1, a[0] * (-1), a[1] * (-1)])"
   ]
  },
  {
   "cell_type": "code",
   "execution_count": 29,
   "metadata": {},
   "outputs": [
    {
     "name": "stdout",
     "output_type": "stream",
     "text": [
      "(4, 3)\n"
     ]
    }
   ],
   "source": [
    "print(np.shape(np.array(P[1])))"
   ]
  },
  {
   "cell_type": "code",
   "execution_count": null,
   "metadata": {},
   "outputs": [],
   "source": [
    "k = 1\n",
    "while k < k_max:\n",
    "    c = np.random.choice(range(0, len(Q)))\n",
    "    cell = Q[c]\n",
    "    points = Q_points[c]\n",
    "    gk = np.var(points)\n",
    "    nk = find_normal(points)\n",
    "    Ik = np.zeros(len(Q), dtype=np.bool)\n",
    "    Ik_points = []\n",
    "    for i, v in enumerate(Q):\n",
    "        g_i = np.var(Q_points[i])\n",
    "        n_i = find_normal(Q_points[i])\n",
    "        d_i = np.linalg.norm((g_i - gk) * n)\n",
    "        theta_i = np.dot(nk, n_i) / (np.linalg.norm(nk) * np.linalg.norm(n_i))\n",
    "        if (d_i < delta_d and theta_i < delta_theta):\n",
    "            Ik[i] = 1\n",
    "            Ik_points += Q_points[i]\n",
    "    if sum(Ik) > len(Psi):\n",
    "        Psi = Ik\n",
    "        Psi_points = Ik_points\n",
    "        Psi_size = sum(Ik)\n",
    "        n = nk\n",
    "        g = gk\n",
    "        Pn = Psi_size / len(Q)\n",
    "        k_max = math.ceil(math.log(1 - nu) / math.log(1 - Pn))\n",
    "    k = k + 1\n",
    "for i in P\n",
    "    "
   ]
  }
 ],
 "metadata": {
  "celltoolbar": "Raw Cell Format",
  "colab": {
   "name": "Untitled2.ipynb",
   "provenance": []
  },
  "kernelspec": {
   "display_name": "Python 3",
   "language": "python",
   "name": "python3"
  },
  "language_info": {
   "codemirror_mode": {
    "name": "ipython",
    "version": 3
   },
   "file_extension": ".py",
   "mimetype": "text/x-python",
   "name": "python",
   "nbconvert_exporter": "python",
   "pygments_lexer": "ipython3",
   "version": "3.7.4"
  }
 },
 "nbformat": 4,
 "nbformat_minor": 1
}
