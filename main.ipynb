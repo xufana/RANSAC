{
 "cells": [
  {
   "cell_type": "code",
   "execution_count": 3,
   "metadata": {
    "colab": {
     "base_uri": "https://localhost:8080/",
     "height": 819
    },
    "colab_type": "code",
    "id": "TI4vArioT_NS",
    "outputId": "f0d4f7ea-2a49-42ca-962d-e04448b39a65"
   },
   "outputs": [
    {
     "name": "stdout",
     "output_type": "stream",
     "text": [
      "Requirement already satisfied: open3d in /usr/local/lib/python3.6/dist-packages (0.10.0.0)\n",
      "Requirement already satisfied: matplotlib in /usr/local/lib/python3.6/dist-packages (from open3d) (2.2.2)\n",
      "Requirement already satisfied: widgetsnbextension in /usr/local/lib/python3.6/dist-packages (from open3d) (3.4.2)\n",
      "Requirement already satisfied: notebook in /usr/local/lib/python3.6/dist-packages (from open3d) (5.7.0)\n",
      "Requirement already satisfied: ipywidgets in /usr/local/lib/python3.6/dist-packages (from open3d) (7.4.2)\n",
      "Requirement already satisfied: numpy in /home/erop/.local/lib/python3.6/site-packages (from open3d) (1.14.3)\n",
      "Requirement already satisfied: pyparsing!=2.0.4,!=2.1.2,!=2.1.6,>=2.0.1 in /usr/local/lib/python3.6/dist-packages (from matplotlib->open3d) (2.2.0)\n",
      "Requirement already satisfied: python-dateutil>=2.1 in /usr/local/lib/python3.6/dist-packages (from matplotlib->open3d) (2.7.3)\n",
      "Requirement already satisfied: six>=1.10 in /home/erop/.local/lib/python3.6/site-packages (from matplotlib->open3d) (1.11.0)\n",
      "Requirement already satisfied: kiwisolver>=1.0.1 in /usr/local/lib/python3.6/dist-packages (from matplotlib->open3d) (1.0.1)\n",
      "Requirement already satisfied: pytz in /usr/local/lib/python3.6/dist-packages (from matplotlib->open3d) (2018.5)\n",
      "Requirement already satisfied: cycler>=0.10 in /usr/local/lib/python3.6/dist-packages (from matplotlib->open3d) (0.10.0)\n",
      "Requirement already satisfied: Send2Trash in /usr/local/lib/python3.6/dist-packages (from notebook->open3d) (1.5.0)\n",
      "Requirement already satisfied: jinja2 in /usr/local/lib/python3.6/dist-packages (from notebook->open3d) (2.10)\n",
      "Requirement already satisfied: traitlets>=4.2.1 in /usr/local/lib/python3.6/dist-packages (from notebook->open3d) (4.3.2)\n",
      "Requirement already satisfied: jupyter-core>=4.4.0 in /usr/local/lib/python3.6/dist-packages (from notebook->open3d) (4.4.0)\n",
      "Requirement already satisfied: nbconvert in /usr/local/lib/python3.6/dist-packages (from notebook->open3d) (5.4.0)\n",
      "Requirement already satisfied: jupyter-client>=5.2.0 in /usr/local/lib/python3.6/dist-packages (from notebook->open3d) (5.2.3)\n",
      "Requirement already satisfied: tornado>=4 in /usr/local/lib/python3.6/dist-packages (from notebook->open3d) (5.1.1)\n",
      "Requirement already satisfied: nbformat in /usr/local/lib/python3.6/dist-packages (from notebook->open3d) (4.4.0)\n",
      "Requirement already satisfied: prometheus-client in /usr/local/lib/python3.6/dist-packages (from notebook->open3d) (0.4.2)\n",
      "Requirement already satisfied: ipykernel in /usr/local/lib/python3.6/dist-packages (from notebook->open3d) (5.1.0)\n",
      "Requirement already satisfied: terminado>=0.8.1 in /usr/local/lib/python3.6/dist-packages (from notebook->open3d) (0.8.1)\n",
      "Requirement already satisfied: pyzmq>=17 in /usr/local/lib/python3.6/dist-packages (from notebook->open3d) (17.1.2)\n",
      "Requirement already satisfied: ipython-genutils in /usr/local/lib/python3.6/dist-packages (from notebook->open3d) (0.2.0)\n",
      "Requirement already satisfied: ipython>=4.0.0; python_version >= \"3.3\" in /usr/local/lib/python3.6/dist-packages (from ipywidgets->open3d) (7.1.1)\n",
      "Requirement already satisfied: setuptools in /usr/lib/python3/dist-packages (from kiwisolver>=1.0.1->matplotlib->open3d) (39.0.1)\n",
      "Requirement already satisfied: MarkupSafe>=0.23 in /usr/local/lib/python3.6/dist-packages (from jinja2->notebook->open3d) (1.1.0)\n",
      "Requirement already satisfied: decorator in /usr/local/lib/python3.6/dist-packages (from traitlets>=4.2.1->notebook->open3d) (4.3.0)\n",
      "Requirement already satisfied: defusedxml in /usr/local/lib/python3.6/dist-packages (from nbconvert->notebook->open3d) (0.5.0)\n",
      "Requirement already satisfied: pygments in /usr/local/lib/python3.6/dist-packages (from nbconvert->notebook->open3d) (2.2.0)\n",
      "Requirement already satisfied: pandocfilters>=1.4.1 in /usr/local/lib/python3.6/dist-packages (from nbconvert->notebook->open3d) (1.4.2)\n",
      "Requirement already satisfied: entrypoints>=0.2.2 in /usr/local/lib/python3.6/dist-packages (from nbconvert->notebook->open3d) (0.2.3)\n",
      "Requirement already satisfied: mistune>=0.8.1 in /usr/local/lib/python3.6/dist-packages (from nbconvert->notebook->open3d) (0.8.4)\n",
      "Requirement already satisfied: testpath in /usr/local/lib/python3.6/dist-packages (from nbconvert->notebook->open3d) (0.4.2)\n",
      "Requirement already satisfied: bleach in /usr/local/lib/python3.6/dist-packages (from nbconvert->notebook->open3d) (1.5.0)\n",
      "Requirement already satisfied: jsonschema!=2.5.0,>=2.4 in /usr/local/lib/python3.6/dist-packages (from nbformat->notebook->open3d) (2.6.0)\n",
      "Requirement already satisfied: ptyprocess; os_name != \"nt\" in /usr/local/lib/python3.6/dist-packages (from terminado>=0.8.1->notebook->open3d) (0.6.0)\n",
      "Requirement already satisfied: pickleshare in /usr/local/lib/python3.6/dist-packages (from ipython>=4.0.0; python_version >= \"3.3\"->ipywidgets->open3d) (0.7.5)\n",
      "Requirement already satisfied: pexpect; sys_platform != \"win32\" in /usr/lib/python3/dist-packages (from ipython>=4.0.0; python_version >= \"3.3\"->ipywidgets->open3d) (4.2.1)\n",
      "Requirement already satisfied: jedi>=0.10 in /usr/local/lib/python3.6/dist-packages (from ipython>=4.0.0; python_version >= \"3.3\"->ipywidgets->open3d) (0.13.1)\n",
      "Requirement already satisfied: prompt-toolkit<2.1.0,>=2.0.0 in /usr/local/lib/python3.6/dist-packages (from ipython>=4.0.0; python_version >= \"3.3\"->ipywidgets->open3d) (2.0.7)\n",
      "Requirement already satisfied: backcall in /usr/local/lib/python3.6/dist-packages (from ipython>=4.0.0; python_version >= \"3.3\"->ipywidgets->open3d) (0.1.0)\n",
      "Requirement already satisfied: html5lib!=0.9999,!=0.99999,<0.99999999,>=0.999 in /usr/local/lib/python3.6/dist-packages (from bleach->nbconvert->notebook->open3d) (0.9999999)\n",
      "Requirement already satisfied: parso>=0.3.0 in /usr/local/lib/python3.6/dist-packages (from jedi>=0.10->ipython>=4.0.0; python_version >= \"3.3\"->ipywidgets->open3d) (0.3.1)\n",
      "Requirement already satisfied: wcwidth in /usr/local/lib/python3.6/dist-packages (from prompt-toolkit<2.1.0,>=2.0.0->ipython>=4.0.0; python_version >= \"3.3\"->ipywidgets->open3d) (0.1.7)\n",
      "\u001b[33mYou are using pip version 18.0, however version 20.2b1 is available.\n",
      "You should consider upgrading via the 'pip install --upgrade pip' command.\u001b[0m\n"
     ]
    }
   ],
   "source": [
    "!pip3 install open3d"
   ]
  },
  {
   "cell_type": "code",
   "execution_count": 1,
   "metadata": {
    "colab": {},
    "colab_type": "code",
    "id": "cLsdeA2ZQl2b"
   },
   "outputs": [],
   "source": [
    "import numpy as np\n",
    "import open3d as o3d\n",
    "import matplotlib.pyplot as plt\n",
    "import math\n",
    "import scipy\n",
    "from tqdm import tqdm_notebook"
   ]
  },
  {
   "cell_type": "code",
   "execution_count": 2,
   "metadata": {
    "colab": {},
    "colab_type": "code",
    "id": "R7mksfC4SaGX"
   },
   "outputs": [],
   "source": [
    "pcd = o3d.io.read_point_cloud(\"scene_dense_sber.ply\")"
   ]
  },
  {
   "cell_type": "code",
   "execution_count": 3,
   "metadata": {
    "colab": {},
    "colab_type": "code",
    "id": "_EcLOnhAVTh5"
   },
   "outputs": [
    {
     "data": {
      "text/plain": [
       "array([[-3.81545782, -0.34077999,  1.90094817],\n",
       "       [-3.81499481, -0.34146237,  1.90027225],\n",
       "       [-3.81462741, -0.34079236,  1.89844096],\n",
       "       ...,\n",
       "       [-4.59054852,  0.53128552,  1.52766979],\n",
       "       [-4.58382034,  0.53391516,  1.59634221],\n",
       "       [-4.49518633,  0.53137571,  2.00885963]])"
      ]
     },
     "execution_count": 3,
     "metadata": {},
     "output_type": "execute_result"
    }
   ],
   "source": [
    "point_cloud_in_numpy = np.asarray(pcd.points)\n",
    "point_cloud_in_numpy "
   ]
  },
  {
   "cell_type": "markdown",
   "metadata": {},
   "source": [
    "# NDT"
   ]
  },
  {
   "cell_type": "markdown",
   "metadata": {},
   "source": [
    "Был вариант, для инициализации А использовать VoxelGrid, но я так и не придумала, как вытащить оттуда соотношение кубик-массив точек в нем, поэтому делим каждую координату нацело на s, получаем координаты кубика для каждой точки."
   ]
  },
  {
   "cell_type": "code",
   "execution_count": 4,
   "metadata": {},
   "outputs": [],
   "source": [
    "s = 0.5\n",
    "te = 0.01\n",
    "A = point_cloud_in_numpy // s # разбиение PCD на кубики\n",
    "Q = np.array([0, 0, 0]) # плоские NDT ячейки\n",
    "Q_points = []\n",
    "P = [] # остальные ячейки"
   ]
  },
  {
   "cell_type": "code",
   "execution_count": 5,
   "metadata": {},
   "outputs": [
    {
     "data": {
      "image/png": "[encoded data removed]",
      "text/plain": [
       "<Figure size 1080x360 with 1 Axes>"
      ]
     },
     "metadata": {
      "needs_background": "light"
     },
     "output_type": "display_data"
    }
   ],
   "source": [
    "unique,counts=np.unique(A,axis=0, return_counts=True)\n",
    "plt.figure(figsize=(15,5))\n",
    "plt.bar(range(0, len(counts)), counts, width=1.5, color='g')\n",
    "plt.show()"
   ]
  },
  {
   "cell_type": "code",
   "execution_count": 6,
   "metadata": {},
   "outputs": [],
   "source": [
    "def IRLS_find_norm(points):\n",
    "    cov = np.cov(np.array(points).T)\n",
    "    #print(\"cov = \", cov)\n",
    "    lambd, e = np.linalg.eig(cov)\n",
    "    o = lambd.argsort()\n",
    "    lambd = lambd[o]\n",
    "    e = e[o]\n",
    "    gamma = 1e-6\n",
    "    k_w = 2.985\n",
    "    n = e[0]\n",
    "    g = np.mean(points, axis = 0)\n",
    "    X_prev = np.zeros(3)\n",
    "    for i in range(100):\n",
    "        n_old = n\n",
    "        r = (points - g) @ n\n",
    "        w = np.exp(-(r ** 2 / k_w ** 2))\n",
    "        X_k = np.average(points - g - X_prev, axis=0, weights=w)\n",
    "        vec = (points - g - X_k)\n",
    "        X_prev = X_k\n",
    "        C = (vec.T * w) @ vec\n",
    "        w, v = np.linalg.eig(C)\n",
    "        o = w.argsort()\n",
    "        w = w[o]\n",
    "        v = v[o]\n",
    "        n = v[0]\n",
    "        convg = np.linalg.norm(n_old - n) / np.linalg.norm(n_old)\n",
    "        if convg < gamma:\n",
    "            break\n",
    "    return n"
   ]
  },
  {
   "cell_type": "code",
   "execution_count": 7,
   "metadata": {},
   "outputs": [
    {
     "data": {
      "application/vnd.jupyter.widget-view+json": {
       "model_id": "6dfdb68401cc4db0af39d20158980492",
       "version_major": 2,
       "version_minor": 0
      },
      "text/plain": [
       "HBox(children=(IntProgress(value=0, max=283), HTML(value='')))"
      ]
     },
     "metadata": {},
     "output_type": "display_data"
    },
    {
     "name": "stdout",
     "output_type": "stream",
     "text": [
      "\n",
      "[[-14.   0.   3.]\n",
      " [-13.   0.   4.]\n",
      " [-11.   0.   4.]\n",
      " [-11.   1.   3.]\n",
      " [-10.  -1.   1.]\n",
      " [-10.   0.   4.]\n",
      " [-10.   1.   1.]\n",
      " [-10.   1.   3.]\n",
      " [ -9.   0.   4.]\n",
      " [ -9.   1.   0.]\n",
      " [ -9.   1.   2.]\n",
      " [ -9.   1.   3.]\n",
      " [ -8.  -1.  -2.]\n",
      " [ -8.  -1.   2.]\n",
      " [ -8.  -1.   3.]\n",
      " [ -8.   0.   4.]\n",
      " [ -8.   1.   2.]\n",
      " [ -8.   1.   3.]\n",
      " [ -7.  -1.  -2.]\n",
      " [ -7.  -1.  -1.]\n",
      " [ -7.  -1.   0.]\n",
      " [ -7.  -1.   1.]\n",
      " [ -7.   0.  -1.]\n",
      " [ -7.   0.   0.]\n",
      " [ -7.   0.   4.]\n",
      " [ -7.   1.  -3.]\n",
      " [ -7.   1.  -2.]\n",
      " [ -7.   1.  -1.]\n",
      " [ -7.   1.   0.]\n",
      " [ -7.   1.   1.]\n",
      " [ -7.   1.   2.]\n",
      " [ -7.   1.   3.]\n",
      " [ -6.  -1.  -2.]\n",
      " [ -6.   0.   3.]\n",
      " [ -6.   1.  -2.]\n",
      " [ -6.   1.   1.]\n",
      " [ -6.   1.   2.]\n",
      " [ -6.   1.   3.]\n",
      " [ -5.  -1.  -2.]\n",
      " [ -5.   0.  -5.]\n",
      " [ -5.   0.   1.]\n",
      " [ -5.   1.  -3.]\n",
      " [ -5.   1.  -2.]\n",
      " [ -4.   0.  -6.]\n",
      " [ -4.   0.  -3.]\n",
      " [ -4.   1.  -3.]\n",
      " [ -4.   1.  -2.]\n",
      " [ -3.   0.  -3.]\n",
      " [ -3.   1.  -3.]\n",
      " [ -3.   1.  -2.]\n",
      " [ -2.  -1.  -4.]\n",
      " [ -2.  -1.  -2.]\n",
      " [ -2.   0.  -3.]\n",
      " [ -2.   0.   1.]\n",
      " [ -2.   1.  -3.]\n",
      " [ -2.   1.  -2.]\n",
      " [ -1.  -1.  -5.]\n",
      " [ -1.  -1.  -2.]\n",
      " [ -1.  -1.   0.]\n",
      " [ -1.   1.  -4.]\n",
      " [ -1.   1.  -3.]\n",
      " [ -1.   1.  -2.]\n",
      " [ -1.   1.  -1.]\n",
      " [ -1.   1.   0.]\n",
      " [  0.   1.  -4.]\n",
      " [  0.   1.  -3.]\n",
      " [  0.   1.  -2.]\n",
      " [  0.   1.  -1.]\n",
      " [  0.   1.   0.]\n",
      " [  1.   1.  -1.]\n",
      " [  2.  -1.  -2.]]\n"
     ]
    }
   ],
   "source": [
    "mu = []\n",
    "normals = []\n",
    "for ind, i in tqdm_notebook(list(enumerate(unique))):\n",
    "    this_cell = np.array(point_cloud_in_numpy[np.where(np.prod(A == i, axis = -1))])\n",
    "    if (len(this_cell) <= 3):\n",
    "        P.append(this_cell)\n",
    "        continue\n",
    "    mu.append(np.mean(this_cell))\n",
    "    cov = np.cov(np.array(this_cell).T)\n",
    "    #print(\"cov = \", cov)\n",
    "    w, v = np.linalg.eig(cov)\n",
    "    o = w.argsort()\n",
    "    w = w[o]\n",
    "    v = v[o]\n",
    "    #print(\"values = \", w)\n",
    "    if (abs(w[0] / w[1]) <= te):\n",
    "        Q = np.vstack((Q, i))\n",
    "        Q_points.append(list(this_cell))\n",
    "        normals.append(IRLS_find_norm(this_cell))\n",
    "    else:\n",
    "        P.append(list(this_cell))\n",
    "Q = Q[1:,]\n",
    "P = np.concatenate(P)"
   ]
  },
  {
   "cell_type": "code",
   "execution_count": 8,
   "metadata": {},
   "outputs": [],
   "source": [
    "Q_points = np.array(Q_points)\n",
    "normals = np.array(normals)"
   ]
  },
  {
   "cell_type": "markdown",
   "metadata": {},
   "source": [
    "# RANSAC"
   ]
  },
  {
   "cell_type": "code",
   "execution_count": 10,
   "metadata": {},
   "outputs": [
    {
     "name": "stdout",
     "output_type": "stream",
     "text": [
      "[1.44600099e-05 1.56957367e-04 2.36103045e-03]\n"
     ]
    }
   ],
   "source": [
    "points = Q_points[8]\n",
    "gk = np.mean(points, axis = 0)\n",
    "nk = IRLS_find_norm(points)\n",
    "cov = np.cov(np.array(this_cell).T)\n",
    "#print(\"cov = \", cov)\n",
    "w, v = np.linalg.eig(cov)\n",
    "w = np.sort(w)\n",
    "print(w)\n",
    "vec = np.tensordot(np.linspace(0, 0.1), nk, axes=0) + gk\n",
    "pcd.points = o3d.utility.Vector3dVector(np.concatenate((points, vec)))\n",
    "pcd.colors = o3d.utility.Vector3dVector([[1, 0, 0]] * len(points) + [[0, 1, 0]] * len(vec))\n",
    "o3d.visualization.draw_geometries([pcd])   "
   ]
  },
  {
   "cell_type": "code",
   "execution_count": 11,
   "metadata": {},
   "outputs": [],
   "source": [
    "def plane(Q, P, Q_points, normals):\n",
    "    k_max = 50\n",
    "    nu = 0.95\n",
    "    delta_d = 0.08\n",
    "    n = 0\n",
    "    delta_theta = 0.25\n",
    "    k = 0\n",
    "    Psi = np.zeros(len(Q), dtype=np.bool)\n",
    "    Psi_size = 0\n",
    "    Psi_points = []\n",
    "    k = 1\n",
    "    while k < k_max:\n",
    "        c = np.random.choice(range(0, len(Q)))\n",
    "        cell = Q[c]\n",
    "        points = Q_points[c]\n",
    "        gk = np.mean(points, axis = 0)\n",
    "        nk = normals[c]\n",
    "        Ik = np.zeros(len(Q), dtype=np.bool)\n",
    "        cnt = 0\n",
    "        Ik_points = []\n",
    "        for i, v in enumerate(Q):\n",
    "            g_i = np.mean(Q_points[i], axis = 0)\n",
    "            n_i = normals[i]\n",
    "            d_i = np.dot((g_i - gk), nk) / np.linalg.norm(nk)\n",
    "            theta_i = 1 - np.abs(np.dot(nk, n_i)) / (np.linalg.norm(nk) * np.linalg.norm(n_i))\n",
    "            if (np.abs(d_i) < delta_d and theta_i < delta_theta):\n",
    "    #             print(d_i, theta_i)\n",
    "    #             print(n_i, nk)\n",
    "                Ik[i] = 1\n",
    "                cnt += 1\n",
    "                Ik_points += Q_points[i]\n",
    "        if cnt > Psi_size:\n",
    "            Psi = Ik\n",
    "            Psi_points = Ik_points\n",
    "            Psi_size = cnt\n",
    "            n = nk\n",
    "            g = gk\n",
    "            Pn = Psi_size / len(Q)\n",
    "            k_max = math.ceil(math.log(1 - nu) / math.log(1 - Pn))\n",
    "        k += 1\n",
    "#     print(Psi_size)\n",
    "\n",
    "\n",
    "#     print(Psi_points[0])\n",
    "#     print(np.shape(Psi_points))\n",
    "    \n",
    "    P_mask = np.zeros(len(P), dtype=np.bool)\n",
    "    for j, i in enumerate(P):\n",
    "        d_i = np.inner(i - g, n) / np.linalg.norm(n)\n",
    "        if (np.abs(d_i) < delta_d):\n",
    "            P_mask[j] = 1 \n",
    "            Psi_points += [i]\n",
    "    return n, g, np.array(Psi_points), Q[~Psi], Q_points[~Psi], P[~P_mask], normals[~Psi]\n",
    "#     print(Psi_points[0])\n",
    "#     print(np.shape(Psi_points))  "
   ]
  },
  {
   "cell_type": "code",
   "execution_count": null,
   "metadata": {},
   "outputs": [
    {
     "name": "stdout",
     "output_type": "stream",
     "text": [
      "434767\n",
      "528611\n",
      "2231693\n",
      "201834\n",
      "48237\n",
      "226079\n",
      "116248\n",
      "116887\n",
      "60217\n"
     ]
    }
   ],
   "source": [
    "Q = Q_old\n",
    "P = P_old\n",
    "Q_points = Q_points_old\n",
    "normal_points = normals_old\n",
    "normals = []\n",
    "result_points = np.zeros((0, 3))\n",
    "result_colors = np.zeros((0, 3))\n",
    "for i in range(10):\n",
    "    n, g, Psi_points, Q, Q_points, P, normal_points = plane(Q, P, Q_points, normal_points)\n",
    "#     print(n)\n",
    "#     print(g)\n",
    "    normals += n\n",
    "    print(len(Psi_points))\n",
    "    if len(Psi_points) < 10000:\n",
    "        break\n",
    "    result_points = np.concatenate((result_points, Psi_points))\n",
    "    result_colors = np.concatenate((result_colors, np.repeat(np.random.random(3).reshape(1, 3), len(Psi_points), axis = 0)))\n",
    "pcd.points = o3d.utility.Vector3dVector(result_points)\n",
    "pcd.colors = o3d.utility.Vector3dVector(result_colors)\n",
    "o3d.visualization.draw_geometries([pcd])"
   ]
  },
  {
   "cell_type": "code",
   "execution_count": 35,
   "metadata": {},
   "outputs": [],
   "source": [
    "pcd.points = o3d.utility.Vector3dVector(result_points)\n",
    "pcd.colors = o3d.utility.Vector3dVector(result_colors)\n",
    "o3d.visualization.draw_geometries([pcd])"
   ]
  },
  {
   "cell_type": "code",
   "execution_count": 17,
   "metadata": {},
   "outputs": [],
   "source": [
    "n, g, Psi_points, NQ, NQ_points, NP, Nnormals = plane(Q, P, Q_points, normals)"
   ]
  },
  {
   "cell_type": "code",
   "execution_count": 18,
   "metadata": {},
   "outputs": [
    {
     "name": "stdout",
     "output_type": "stream",
     "text": [
      "5905097 = 5905097\n"
     ]
    }
   ],
   "source": [
    "#print(sum(map(len, NQ_points)) + len(NP) + len(Psi_points), '=', sum(map(len, Q_points)) + len(P))"
   ]
  },
  {
   "cell_type": "code",
   "execution_count": 19,
   "metadata": {},
   "outputs": [],
   "source": [
    "pcd.points = o3d.utility.Vector3dVector(Psi_points)\n",
    "pcd.colors = o3d.utility.Vector3dVector([n] * len(Psi_points))\n",
    "o3d.visualization.draw_geometries([pcd])"
   ]
  },
  {
   "cell_type": "code",
   "execution_count": null,
   "metadata": {},
   "outputs": [],
   "source": [
    "print(Psi_points[:,2].min(), Psi_points[:,2].max())"
   ]
  },
  {
   "cell_type": "markdown",
   "metadata": {},
   "source": [
    "# Определение потолка/пола/перекрытий"
   ]
  },
  {
   "cell_type": "code",
   "execution_count": null,
   "metadata": {},
   "outputs": [],
   "source": [
    "def sep(arr):\n",
    "    l = min(z)\n",
    "    h = max(z)\n",
    "    mid = (h - l) / 2\n",
    "    ind = np.searchsorted(z, mid)\n",
    "    z1 = z[:ind]\n",
    "    z2 = z[ind:]\n",
    "    floors = []\n",
    "    lwth = # нижний порог\n",
    "    upth = # верхний порог\n",
    "    if len(z1) / (mid - l) > upth:\n",
    "        floors.append((mid, l))\n",
    "    elif len(z1) / (mid - l) > lwth:\n",
    "        floors += sep(z1)\n",
    "    if len(z2) / (h - mid) > upth:\n",
    "        floors.append((mid, h))\n",
    "    elif len(z2) / (h - mid) > lwth:\n",
    "        floors += sep(z2)\n",
    "    return floors"
   ]
  },
  {
   "cell_type": "code",
   "execution_count": null,
   "metadata": {},
   "outputs": [],
   "source": [
    "z = np.sort(point_cloud_in_numpy[:,1])\n",
    "z = sep(z)\n",
    "final_f = []\n",
    "for i, v in enumerate(Psi_points):\n",
    "    theta_i = 1 - np.abs(np.dot([0, 1, 0], normals[i])) / (np.linalg.norm([0, 1, 0]) * np.linalg.norm(normals[i]))\n",
    "    if (theta_i <= 0.25):\n",
    "        mean_z = np.mean(v[:,1])\n",
    "        for j in floors:\n",
    "            if mean_z <= j[1] and mean_z >= j[0]:\n",
    "                final_f += v\n",
    "Psi_points = Psi_points[~final_f] # тут остались только стены\n"
   ]
  },
  {
   "cell_type": "markdown",
   "metadata": {},
   "source": [
    "# Делаем Mesh из стен и потолков с полом"
   ]
  },
  {
   "cell_type": "code",
   "execution_count": null,
   "metadata": {},
   "outputs": [],
   "source": [
    "walls.points = o3d.utility.Vector3dVector(Psi_points)\n",
    "walls.colors = o3d.utility.Vector3dVector([[1, 0, 0] * len(Psi_points))\n",
    "poisson_mesh = o3d.geometry.TriangleMesh.create_from_point_cloud_poisson(walls, \n",
    "                                                                         depth=8, \n",
    "                                                                         width=0, \n",
    "                                                                         scale=1.1, \n",
    "                                                                         linear_fit=False)[0]\n",
    "bbox = walls.get_axis_aligned_bounding_box()\n",
    "p_mesh_crop = poisson_mesh.crop(bbox)\n",
    "o3d.io.write_triangle_mesh(output_path+\"walls.ply\", walls)"
   ]
  },
  {
   "cell_type": "code",
   "execution_count": null,
   "metadata": {},
   "outputs": [],
   "source": [
    "floors.points = o3d.utility.Vector3dVector(final_f)\n",
    "floors.colors = o3d.utility.Vector3dVector([[1, 0, 0] * len(final_f))\n",
    "poisson_mesh = o3d.geometry.TriangleMesh.create_from_point_cloud_poisson(floors, \n",
    "                                                                         depth=8, \n",
    "                                                                         width=0, \n",
    "                                                                         scale=1.1, \n",
    "                                                                         linear_fit=False)[0]\n",
    "bbox = floors.get_axis_aligned_bounding_box()\n",
    "p_mesh_crop = poisson_mesh.crop(bbox)\n",
    "o3d.io.write_triangle_mesh(output_path+\"floors.ply\", floors)"
   ]
  },
  {
   "cell_type": "markdown",
   "metadata": {},
   "source": [
    "# Делаем план помещения"
   ]
  },
  {
   "cell_type": "code",
   "execution_count": null,
   "metadata": {},
   "outputs": [],
   "source": [
    "plan = Psi_points[:,0:3:2]"
   ]
  }
 ],
 "metadata": {
  "celltoolbar": "Raw Cell Format",
  "colab": {
   "name": "Untitled2.ipynb",
   "provenance": []
  },
  "kernelspec": {
   "display_name": "Python 3",
   "language": "python",
   "name": "python3"
  },
  "language_info": {
   "codemirror_mode": {
    "name": "ipython",
    "version": 2
   },
   "file_extension": ".py",
   "mimetype": "text/x-python",
   "name": "python",
   "nbconvert_exporter": "python",
   "pygments_lexer": "ipython2",
   "version": "2.7.16"
  }
 },
 "nbformat": 4,
 "nbformat_minor": 1
}
